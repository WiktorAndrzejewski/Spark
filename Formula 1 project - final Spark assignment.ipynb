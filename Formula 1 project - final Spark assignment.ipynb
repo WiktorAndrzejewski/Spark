{
 "cells": [
  {
   "cell_type": "markdown",
   "metadata": {
    "application/vnd.databricks.v1+cell": {
     "cellMetadata": {
      "byteLimit": 2048000,
      "rowLimit": 10000
     },
     "inputWidgets": {},
     "nuid": "03159359-27b7-485e-9cab-18d812105141",
     "showTitle": false,
     "title": ""
    }
   },
   "source": [
    "## Formula 1 project - final assignment \n",
    "The goal of this project is to present detailed data regarding F1 races in 1950 - 2021."
   ]
  },
  {
   "cell_type": "markdown",
   "metadata": {
    "application/vnd.databricks.v1+cell": {
     "cellMetadata": {
      "byteLimit": 2048000,
      "rowLimit": 10000
     },
     "inputWidgets": {},
     "nuid": "7d634d05-6d78-487b-9518-d771b6fbc96c",
     "showTitle": false,
     "title": ""
    }
   },
   "source": [
    "#### 1. Setting up the connection between the Azure Data lake storage gen2 and the Databricks"
   ]
  },
  {
   "cell_type": "markdown",
   "metadata": {
    "application/vnd.databricks.v1+cell": {
     "cellMetadata": {
      "byteLimit": 2048000,
      "rowLimit": 10000
     },
     "inputWidgets": {},
     "nuid": "1296e879-40e8-4bb5-9a6f-8d8369721312",
     "showTitle": false,
     "title": ""
    }
   },
   "source": [
    "###### a) Defining the key vales which are crucial to properly connect the Databricks to ADLS"
   ]
  },
  {
   "cell_type": "code",
   "execution_count": 0,
   "metadata": {
    "application/vnd.databricks.v1+cell": {
     "cellMetadata": {
      "byteLimit": 2048000,
      "rowLimit": 10000
     },
     "inputWidgets": {},
     "nuid": "cdf3ff09-0d21-4905-ac4a-3dd8ad9bf0e8",
     "showTitle": false,
     "title": ""
    }
   },
   "outputs": [],
   "source": [
    "client_id = \"xxx\"\n",
    "tenant_id = \"xxx\"\n",
    "client_secret = \"xxx\""
   ]
  },
  {
   "cell_type": "markdown",
   "metadata": {
    "application/vnd.databricks.v1+cell": {
     "cellMetadata": {
      "byteLimit": 2048000,
      "rowLimit": 10000
     },
     "inputWidgets": {},
     "nuid": "66449ae1-d09d-49e0-ab0c-db95d80626c9",
     "showTitle": false,
     "title": ""
    }
   },
   "source": [
    "###### b) Setting up the connection between Databricks and ADLS"
   ]
  },
  {
   "cell_type": "code",
   "execution_count": 0,
   "metadata": {
    "application/vnd.databricks.v1+cell": {
     "cellMetadata": {
      "byteLimit": 2048000,
      "rowLimit": 10000
     },
     "inputWidgets": {},
     "nuid": "5579bcaa-33db-448b-a8d2-ddc2e912cb4b",
     "showTitle": false,
     "title": ""
    }
   },
   "outputs": [],
   "source": [
    "spark.conf.set(\"fs.azure.account.auth.type.formula1wa.dfs.core.windows.net\", \"OAuth\")\n",
    "spark.conf.set(\"fs.azure.account.oauth.provider.type.formula1wa.dfs.core.windows.net\", \"org.apache.hadoop.fs.azurebfs.oauth2.ClientCredsTokenProvider\")\n",
    "spark.conf.set(\"fs.azure.account.oauth2.client.id.formula1wa.dfs.core.windows.net\", client_id)\n",
    "spark.conf.set(\"fs.azure.account.oauth2.client.secret.formula1wa.dfs.core.windows.net\", client_secret)\n",
    "spark.conf.set(\"fs.azure.account.oauth2.client.endpoint.formula1wa.dfs.core.windows.net\", f\"https://login.microsoftonline.com/{tenant_id}/oauth2/token\")"
   ]
  },
  {
   "cell_type": "markdown",
   "metadata": {
    "application/vnd.databricks.v1+cell": {
     "cellMetadata": {
      "byteLimit": 2048000,
      "rowLimit": 10000
     },
     "inputWidgets": {},
     "nuid": "f31790b7-bcfe-4e19-94da-8212e3742d90",
     "showTitle": false,
     "title": ""
    }
   },
   "source": [
    "###### c) The list of the containers available in the ADLS"
   ]
  },
  {
   "cell_type": "code",
   "execution_count": 0,
   "metadata": {
    "application/vnd.databricks.v1+cell": {
     "cellMetadata": {
      "byteLimit": 2048000,
      "rowLimit": 10000
     },
     "inputWidgets": {},
     "nuid": "edde307c-538c-4cd2-8628-b511d852f280",
     "showTitle": false,
     "title": ""
    }
   },
   "outputs": [
    {
     "output_type": "display_data",
     "data": {
      "text/html": [
       "<style scoped>\n",
       "  .table-result-container {\n",
       "    max-height: 300px;\n",
       "    overflow: auto;\n",
       "  }\n",
       "  table, th, td {\n",
       "    border: 1px solid black;\n",
       "    border-collapse: collapse;\n",
       "  }\n",
       "  th, td {\n",
       "    padding: 5px;\n",
       "  }\n",
       "  th {\n",
       "    text-align: left;\n",
       "  }\n",
       "</style><div class='table-result-container'><table class='table-result'><thead style='background-color: white'><tr><th>path</th><th>name</th><th>size</th><th>modificationTime</th></tr></thead><tbody><tr><td>abfss://raw@formula1wa.dfs.core.windows.net/circuits.csv</td><td>circuits.csv</td><td>10044</td><td>1687008648000</td></tr><tr><td>abfss://raw@formula1wa.dfs.core.windows.net/constructors.json</td><td>constructors.json</td><td>30415</td><td>1687008648000</td></tr><tr><td>abfss://raw@formula1wa.dfs.core.windows.net/drivers.json</td><td>drivers.json</td><td>180812</td><td>1687008649000</td></tr><tr><td>abfss://raw@formula1wa.dfs.core.windows.net/lap_times/</td><td>lap_times/</td><td>0</td><td>1687008965000</td></tr><tr><td>abfss://raw@formula1wa.dfs.core.windows.net/pit_stops.json</td><td>pit_stops.json</td><td>1369387</td><td>1687008659000</td></tr><tr><td>abfss://raw@formula1wa.dfs.core.windows.net/qualifying/</td><td>qualifying/</td><td>0</td><td>1687008920000</td></tr><tr><td>abfss://raw@formula1wa.dfs.core.windows.net/races.csv</td><td>races.csv</td><td>116847</td><td>1687008648000</td></tr><tr><td>abfss://raw@formula1wa.dfs.core.windows.net/results.json</td><td>results.json</td><td>7165641</td><td>1687008704000</td></tr></tbody></table></div>"
      ]
     },
     "metadata": {
      "application/vnd.databricks.v1+output": {
       "addedWidgets": {},
       "aggData": [],
       "aggError": "",
       "aggOverflow": false,
       "aggSchema": [],
       "aggSeriesLimitReached": false,
       "aggType": "",
       "arguments": {},
       "columnCustomDisplayInfos": {},
       "data": [
        [
         "abfss://raw@formula1wa.dfs.core.windows.net/circuits.csv",
         "circuits.csv",
         10044,
         1687008648000
        ],
        [
         "abfss://raw@formula1wa.dfs.core.windows.net/constructors.json",
         "constructors.json",
         30415,
         1687008648000
        ],
        [
         "abfss://raw@formula1wa.dfs.core.windows.net/drivers.json",
         "drivers.json",
         180812,
         1687008649000
        ],
        [
         "abfss://raw@formula1wa.dfs.core.windows.net/lap_times/",
         "lap_times/",
         0,
         1687008965000
        ],
        [
         "abfss://raw@formula1wa.dfs.core.windows.net/pit_stops.json",
         "pit_stops.json",
         1369387,
         1687008659000
        ],
        [
         "abfss://raw@formula1wa.dfs.core.windows.net/qualifying/",
         "qualifying/",
         0,
         1687008920000
        ],
        [
         "abfss://raw@formula1wa.dfs.core.windows.net/races.csv",
         "races.csv",
         116847,
         1687008648000
        ],
        [
         "abfss://raw@formula1wa.dfs.core.windows.net/results.json",
         "results.json",
         7165641,
         1687008704000
        ]
       ],
       "datasetInfos": [],
       "dbfsResultPath": null,
       "isJsonSchema": true,
       "metadata": {
        "isDbfsCommandResult": false
       },
       "overflow": false,
       "plotOptions": {
        "customPlotOptions": {},
        "displayType": "table",
        "pivotAggregation": null,
        "pivotColumns": null,
        "xColumns": null,
        "yColumns": null
       },
       "removedWidgets": [],
       "schema": [
        {
         "metadata": "{}",
         "name": "path",
         "type": "\"string\""
        },
        {
         "metadata": "{}",
         "name": "name",
         "type": "\"string\""
        },
        {
         "metadata": "{}",
         "name": "size",
         "type": "\"long\""
        },
        {
         "metadata": "{}",
         "name": "modificationTime",
         "type": "\"long\""
        }
       ],
       "type": "table"
      }
     },
     "output_type": "display_data"
    }
   ],
   "source": [
    "%fs\n",
    "ls abfss://raw@formula1wa.dfs.core.windows.net"
   ]
  },
  {
   "cell_type": "markdown",
   "metadata": {
    "application/vnd.databricks.v1+cell": {
     "cellMetadata": {
      "byteLimit": 2048000,
      "rowLimit": 10000
     },
     "inputWidgets": {},
     "nuid": "d10f3c61-3e24-4b40-bd54-0a039669b190",
     "showTitle": false,
     "title": ""
    }
   },
   "source": [
    "#### 2. Data transformation and ingestion"
   ]
  },
  {
   "cell_type": "markdown",
   "metadata": {
    "application/vnd.databricks.v1+cell": {
     "cellMetadata": {
      "byteLimit": 2048000,
      "rowLimit": 10000
     },
     "inputWidgets": {},
     "nuid": "b553804b-fc42-4f52-9836-45b3bd82dc71",
     "showTitle": false,
     "title": ""
    }
   },
   "source": [
    "#### Circuits"
   ]
  },
  {
   "cell_type": "markdown",
   "metadata": {
    "application/vnd.databricks.v1+cell": {
     "cellMetadata": {
      "byteLimit": 2048000,
      "rowLimit": 10000
     },
     "inputWidgets": {},
     "nuid": "77a2f67f-9ef7-42e2-bc67-08176e9d9837",
     "showTitle": false,
     "title": ""
    }
   },
   "source": [
    "###### a) This part of code provides classes for defining the schema of a DataFrame"
   ]
  },
  {
   "cell_type": "code",
   "execution_count": 0,
   "metadata": {
    "application/vnd.databricks.v1+cell": {
     "cellMetadata": {
      "byteLimit": 2048000,
      "rowLimit": 10000
     },
     "inputWidgets": {},
     "nuid": "656d0cf8-c52c-4738-992c-129c3bd7c047",
     "showTitle": false,
     "title": ""
    }
   },
   "outputs": [],
   "source": [
    "from pyspark.sql.types import StructType, StructField, IntegerType, StringType, DoubleType"
   ]
  },
  {
   "cell_type": "markdown",
   "metadata": {
    "application/vnd.databricks.v1+cell": {
     "cellMetadata": {
      "byteLimit": 2048000,
      "rowLimit": 10000
     },
     "inputWidgets": {},
     "nuid": "affec41f-b2ba-4527-80b7-45904a75ccdf",
     "showTitle": false,
     "title": ""
    }
   },
   "source": [
    "###### b) Defining a new schema"
   ]
  },
  {
   "cell_type": "code",
   "execution_count": 0,
   "metadata": {
    "application/vnd.databricks.v1+cell": {
     "cellMetadata": {
      "byteLimit": 2048000,
      "rowLimit": 10000
     },
     "inputWidgets": {},
     "nuid": "d3a607f0-4fde-474f-9703-2e59aa8109ad",
     "showTitle": false,
     "title": ""
    }
   },
   "outputs": [],
   "source": [
    "circuits_schema = StructType(fields=[StructField(\"circuitId\", IntegerType(), False),\n",
    "                                     StructField(\"circuitRef\", StringType(), True),\n",
    "                                     StructField(\"name\", StringType(), True),\n",
    "                                     StructField(\"location\", StringType(), True),\n",
    "                                     StructField(\"country\", StringType(), True),\n",
    "                                     StructField(\"lat\", DoubleType(), True),\n",
    "                                     StructField(\"lng\", DoubleType(), True),\n",
    "                                     StructField(\"alt\", IntegerType(), True),\n",
    "\n",
    "])"
   ]
  },
  {
   "cell_type": "markdown",
   "metadata": {
    "application/vnd.databricks.v1+cell": {
     "cellMetadata": {
      "byteLimit": 2048000,
      "rowLimit": 10000
     },
     "inputWidgets": {},
     "nuid": "b66faaad-a92b-4f60-aced-eef44f85863c",
     "showTitle": false,
     "title": ""
    }
   },
   "source": [
    "###### c) Ingest CSV file into a PySpark DataFrame using the spark.read.csv() method"
   ]
  },
  {
   "cell_type": "code",
   "execution_count": 0,
   "metadata": {
    "application/vnd.databricks.v1+cell": {
     "cellMetadata": {
      "byteLimit": 2048000,
      "rowLimit": 10000
     },
     "inputWidgets": {},
     "nuid": "74775b0e-2c2a-4e8c-8f55-fa10d74089c8",
     "showTitle": false,
     "title": ""
    }
   },
   "outputs": [],
   "source": [
    "circuits_df = spark.read \\\n",
    ".option(\"header\", True) \\\n",
    ".schema(circuits_schema) \\\n",
    ".csv(\"abfss://demo@formula1wa.dfs.core.windows.net/circuits.csv\")"
   ]
  },
  {
   "cell_type": "markdown",
   "metadata": {
    "application/vnd.databricks.v1+cell": {
     "cellMetadata": {
      "byteLimit": 2048000,
      "rowLimit": 10000
     },
     "inputWidgets": {},
     "nuid": "3ecb692c-15c3-4e70-b9a0-a872e19b8262",
     "showTitle": false,
     "title": ""
    }
   },
   "source": [
    "###### d) Selecting specific columns from the circuits_df using col() function"
   ]
  },
  {
   "cell_type": "code",
   "execution_count": 0,
   "metadata": {
    "application/vnd.databricks.v1+cell": {
     "cellMetadata": {
      "byteLimit": 2048000,
      "rowLimit": 10000
     },
     "inputWidgets": {},
     "nuid": "54b9b411-a156-44b3-8800-4af940b44e4b",
     "showTitle": false,
     "title": ""
    }
   },
   "outputs": [],
   "source": [
    "from pyspark.sql.functions import col"
   ]
  },
  {
   "cell_type": "code",
   "execution_count": 0,
   "metadata": {
    "application/vnd.databricks.v1+cell": {
     "cellMetadata": {
      "byteLimit": 2048000,
      "rowLimit": 10000
     },
     "inputWidgets": {},
     "nuid": "119584a7-a0e4-421d-aa44-28f22f0dcf0b",
     "showTitle": false,
     "title": ""
    }
   },
   "outputs": [],
   "source": [
    "circuits_selected_df = circuits_df.select(col(\"circuitId\"), col(\"circuitRef\"), col(\"name\"), col(\"location\"), col(\"country\"), col(\"lat\"), col(\"lng\"), col(\"alt\"))"
   ]
  },
  {
   "cell_type": "markdown",
   "metadata": {
    "application/vnd.databricks.v1+cell": {
     "cellMetadata": {
      "byteLimit": 2048000,
      "rowLimit": 10000
     },
     "inputWidgets": {},
     "nuid": "d4b8c515-46c2-4838-a71d-baae6bd3f6e6",
     "showTitle": false,
     "title": ""
    }
   },
   "source": [
    "###### e) Renaming the columns"
   ]
  },
  {
   "cell_type": "code",
   "execution_count": 0,
   "metadata": {
    "application/vnd.databricks.v1+cell": {
     "cellMetadata": {
      "byteLimit": 2048000,
      "rowLimit": 10000
     },
     "inputWidgets": {},
     "nuid": "25804843-61bf-4e8e-9c7a-bb4c052fbe7e",
     "showTitle": false,
     "title": ""
    }
   },
   "outputs": [
    {
     "output_type": "display_data",
     "data": {
      "text/html": [
       "<style scoped>\n",
       "  .table-result-container {\n",
       "    max-height: 300px;\n",
       "    overflow: auto;\n",
       "  }\n",
       "  table, th, td {\n",
       "    border: 1px solid black;\n",
       "    border-collapse: collapse;\n",
       "  }\n",
       "  th, td {\n",
       "    padding: 5px;\n",
       "  }\n",
       "  th {\n",
       "    text-align: left;\n",
       "  }\n",
       "</style><div class='table-result-container'><table class='table-result'><thead style='background-color: white'><tr><th>circuit_id</th><th>circuit_ref</th><th>Circuit_name</th><th>location</th><th>country</th><th>latitude</th><th>longitude</th><th>altitude</th></tr></thead><tbody><tr><td>1</td><td>albert_park</td><td>Albert Park Grand Prix Circuit</td><td>Melbourne</td><td>Australia</td><td>-37.8497</td><td>144.968</td><td>10</td></tr><tr><td>2</td><td>sepang</td><td>Sepang International Circuit</td><td>Kuala Lumpur</td><td>Malaysia</td><td>2.76083</td><td>101.738</td><td>18</td></tr><tr><td>3</td><td>bahrain</td><td>Bahrain International Circuit</td><td>Sakhir</td><td>Bahrain</td><td>26.0325</td><td>50.5106</td><td>7</td></tr><tr><td>4</td><td>catalunya</td><td>Circuit de Barcelona-Catalunya</td><td>Montmeló</td><td>Spain</td><td>41.57</td><td>2.26111</td><td>109</td></tr><tr><td>5</td><td>istanbul</td><td>Istanbul Park</td><td>Istanbul</td><td>Turkey</td><td>40.9517</td><td>29.405</td><td>130</td></tr><tr><td>6</td><td>monaco</td><td>Circuit de Monaco</td><td>Monte-Carlo</td><td>Monaco</td><td>43.7347</td><td>7.42056</td><td>7</td></tr><tr><td>7</td><td>villeneuve</td><td>Circuit Gilles Villeneuve</td><td>Montreal</td><td>Canada</td><td>45.5</td><td>-73.5228</td><td>13</td></tr><tr><td>8</td><td>magny_cours</td><td>Circuit de Nevers Magny-Cours</td><td>Magny Cours</td><td>France</td><td>46.8642</td><td>3.16361</td><td>228</td></tr><tr><td>9</td><td>silverstone</td><td>Silverstone Circuit</td><td>Silverstone</td><td>UK</td><td>52.0786</td><td>-1.01694</td><td>153</td></tr><tr><td>10</td><td>hockenheimring</td><td>Hockenheimring</td><td>Hockenheim</td><td>Germany</td><td>49.3278</td><td>8.56583</td><td>103</td></tr><tr><td>11</td><td>hungaroring</td><td>Hungaroring</td><td>Budapest</td><td>Hungary</td><td>47.5789</td><td>19.2486</td><td>264</td></tr><tr><td>12</td><td>valencia</td><td>Valencia Street Circuit</td><td>Valencia</td><td>Spain</td><td>39.4589</td><td>-0.331667</td><td>4</td></tr><tr><td>13</td><td>spa</td><td>Circuit de Spa-Francorchamps</td><td>Spa</td><td>Belgium</td><td>50.4372</td><td>5.97139</td><td>401</td></tr><tr><td>14</td><td>monza</td><td>Autodromo Nazionale di Monza</td><td>Monza</td><td>Italy</td><td>45.6156</td><td>9.28111</td><td>162</td></tr><tr><td>15</td><td>marina_bay</td><td>Marina Bay Street Circuit</td><td>Marina Bay</td><td>Singapore</td><td>1.2914</td><td>103.864</td><td>18</td></tr><tr><td>16</td><td>fuji</td><td>Fuji Speedway</td><td>Oyama</td><td>Japan</td><td>35.3717</td><td>138.927</td><td>583</td></tr><tr><td>17</td><td>shanghai</td><td>Shanghai International Circuit</td><td>Shanghai</td><td>China</td><td>31.3389</td><td>121.22</td><td>5</td></tr><tr><td>18</td><td>interlagos</td><td>Autódromo José Carlos Pace</td><td>São Paulo</td><td>Brazil</td><td>-23.7036</td><td>-46.6997</td><td>785</td></tr><tr><td>19</td><td>indianapolis</td><td>Indianapolis Motor Speedway</td><td>Indianapolis</td><td>USA</td><td>39.795</td><td>-86.2347</td><td>223</td></tr><tr><td>20</td><td>nurburgring</td><td>Nürburgring</td><td>Nürburg</td><td>Germany</td><td>50.3356</td><td>6.9475</td><td>578</td></tr><tr><td>21</td><td>imola</td><td>Autodromo Enzo e Dino Ferrari</td><td>Imola</td><td>Italy</td><td>44.3439</td><td>11.7167</td><td>37</td></tr><tr><td>22</td><td>suzuka</td><td>Suzuka Circuit</td><td>Suzuka</td><td>Japan</td><td>34.8431</td><td>136.541</td><td>45</td></tr><tr><td>23</td><td>osterreichring</td><td>A1-Ring</td><td>Spielburg</td><td>Austria</td><td>47.2197</td><td>14.7647</td><td>678</td></tr><tr><td>24</td><td>yas_marina</td><td>Yas Marina Circuit</td><td>Abu Dhabi</td><td>UAE</td><td>24.4672</td><td>54.6031</td><td>3</td></tr><tr><td>25</td><td>galvez</td><td>Autódromo Juan y Oscar Gálvez</td><td>Buenos Aires</td><td>Argentina</td><td>-34.6943</td><td>-58.4593</td><td>8</td></tr><tr><td>26</td><td>jerez</td><td>Circuito de Jerez</td><td>Jerez de la Frontera</td><td>Spain</td><td>36.7083</td><td>-6.03417</td><td>37</td></tr><tr><td>27</td><td>estoril</td><td>Autódromo do Estoril</td><td>Estoril</td><td>Portugal</td><td>38.7506</td><td>-9.39417</td><td>130</td></tr><tr><td>28</td><td>okayama</td><td>Okayama International Circuit</td><td>Okayama</td><td>Japan</td><td>34.915</td><td>134.221</td><td>266</td></tr><tr><td>29</td><td>adelaide</td><td>Adelaide Street Circuit</td><td>Adelaide</td><td>Australia</td><td>-34.9272</td><td>138.617</td><td>58</td></tr><tr><td>30</td><td>kyalami</td><td>Kyalami</td><td>Midrand</td><td>South Africa</td><td>-25.9894</td><td>28.0767</td><td>1460</td></tr><tr><td>31</td><td>donington</td><td>Donington Park</td><td>Castle Donington</td><td>UK</td><td>52.8306</td><td>-1.37528</td><td>88</td></tr><tr><td>32</td><td>rodriguez</td><td>Autódromo Hermanos Rodríguez</td><td>Mexico City</td><td>Mexico</td><td>19.4042</td><td>-99.0907</td><td>2227</td></tr><tr><td>33</td><td>phoenix</td><td>Phoenix street circuit</td><td>Phoenix</td><td>USA</td><td>33.4479</td><td>-112.075</td><td>345</td></tr><tr><td>34</td><td>ricard</td><td>Circuit Paul Ricard</td><td>Le Castellet</td><td>France</td><td>43.2506</td><td>5.79167</td><td>432</td></tr><tr><td>35</td><td>yeongam</td><td>Korean International Circuit</td><td>Yeongam County</td><td>Korea</td><td>34.7333</td><td>126.417</td><td>0</td></tr><tr><td>36</td><td>jacarepagua</td><td>Autódromo Internacional Nelson Piquet</td><td>Rio de Janeiro</td><td>Brazil</td><td>-22.9756</td><td>-43.395</td><td>1126</td></tr><tr><td>37</td><td>detroit</td><td>Detroit Street Circuit</td><td>Detroit</td><td>USA</td><td>42.3298</td><td>-83.0401</td><td>177</td></tr><tr><td>38</td><td>brands_hatch</td><td>Brands Hatch</td><td>Kent</td><td>UK</td><td>51.3569</td><td>0.263056</td><td>145</td></tr><tr><td>39</td><td>zandvoort</td><td>Circuit Park Zandvoort</td><td>Zandvoort</td><td>Netherlands</td><td>52.3888</td><td>4.54092</td><td>6</td></tr><tr><td>40</td><td>zolder</td><td>Zolder</td><td>Heusden-Zolder</td><td>Belgium</td><td>50.9894</td><td>5.25694</td><td>36</td></tr><tr><td>41</td><td>dijon</td><td>Dijon-Prenois</td><td>Dijon</td><td>France</td><td>47.3625</td><td>4.89913</td><td>484</td></tr><tr><td>42</td><td>dallas</td><td>Fair Park</td><td>Dallas</td><td>USA</td><td>32.7774</td><td>-96.7587</td><td>139</td></tr><tr><td>43</td><td>long_beach</td><td>Long Beach</td><td>California</td><td>USA</td><td>33.7651</td><td>-118.189</td><td>12</td></tr><tr><td>44</td><td>las_vegas</td><td>Las Vegas Street Circuit</td><td>Nevada</td><td>USA</td><td>36.1162</td><td>-115.174</td><td>639</td></tr><tr><td>45</td><td>jarama</td><td>Jarama</td><td>Madrid</td><td>Spain</td><td>40.6171</td><td>-3.58558</td><td>609</td></tr><tr><td>46</td><td>watkins_glen</td><td>Watkins Glen</td><td>New York State</td><td>USA</td><td>42.3369</td><td>-76.9272</td><td>485</td></tr><tr><td>47</td><td>anderstorp</td><td>Scandinavian Raceway</td><td>Anderstorp</td><td>Sweden</td><td>57.2653</td><td>13.6042</td><td>153</td></tr><tr><td>48</td><td>mosport</td><td>Mosport International Raceway</td><td>Ontario</td><td>Canada</td><td>44.0481</td><td>-78.6756</td><td>332</td></tr><tr><td>49</td><td>montjuic</td><td>Montjuïc</td><td>Barcelona</td><td>Spain</td><td>41.3664</td><td>2.15167</td><td>79</td></tr><tr><td>50</td><td>nivelles</td><td>Nivelles-Baulers</td><td>Brussels</td><td>Belgium</td><td>50.6211</td><td>4.32694</td><td>139</td></tr><tr><td>51</td><td>charade</td><td>Charade Circuit</td><td>Clermont-Ferrand</td><td>France</td><td>45.7472</td><td>3.03889</td><td>790</td></tr><tr><td>52</td><td>tremblant</td><td>Circuit Mont-Tremblant</td><td>Quebec</td><td>Canada</td><td>46.1877</td><td>-74.6099</td><td>214</td></tr><tr><td>53</td><td>essarts</td><td>Rouen-Les-Essarts</td><td>Rouen</td><td>France</td><td>49.3306</td><td>1.00458</td><td>81</td></tr><tr><td>54</td><td>lemans</td><td>Le Mans</td><td>Le Mans</td><td>France</td><td>47.95</td><td>0.224231</td><td>67</td></tr><tr><td>55</td><td>reims</td><td>Reims-Gueux</td><td>Reims</td><td>France</td><td>49.2542</td><td>3.93083</td><td>88</td></tr><tr><td>56</td><td>george</td><td>Prince George Circuit</td><td>Eastern Cape Province</td><td>South Africa</td><td>-33.0486</td><td>27.8736</td><td>15</td></tr><tr><td>57</td><td>zeltweg</td><td>Zeltweg</td><td>Styria</td><td>Austria</td><td>47.2039</td><td>14.7478</td><td>676</td></tr><tr><td>58</td><td>aintree</td><td>Aintree</td><td>Liverpool</td><td>UK</td><td>53.4769</td><td>-2.94056</td><td>20</td></tr><tr><td>59</td><td>boavista</td><td>Circuito da Boavista</td><td>Oporto</td><td>Portugal</td><td>41.1705</td><td>-8.67325</td><td>28</td></tr><tr><td>60</td><td>riverside</td><td>Riverside International Raceway</td><td>California</td><td>USA</td><td>33.937</td><td>-117.273</td><td>470</td></tr><tr><td>61</td><td>avus</td><td>AVUS</td><td>Berlin</td><td>Germany</td><td>52.4806</td><td>13.2514</td><td>53</td></tr><tr><td>62</td><td>monsanto</td><td>Monsanto Park Circuit</td><td>Lisbon</td><td>Portugal</td><td>38.7197</td><td>-9.20306</td><td>158</td></tr><tr><td>63</td><td>sebring</td><td>Sebring International Raceway</td><td>Florida</td><td>USA</td><td>27.4547</td><td>-81.3483</td><td>18</td></tr><tr><td>64</td><td>ain-diab</td><td>Ain Diab</td><td>Casablanca</td><td>Morocco</td><td>33.5786</td><td>-7.6875</td><td>19</td></tr><tr><td>65</td><td>pescara</td><td>Pescara Circuit</td><td>Pescara</td><td>Italy</td><td>42.475</td><td>14.1508</td><td>129</td></tr><tr><td>66</td><td>bremgarten</td><td>Circuit Bremgarten</td><td>Bern</td><td>Switzerland</td><td>46.9589</td><td>7.40194</td><td>551</td></tr><tr><td>67</td><td>pedralbes</td><td>Circuit de Pedralbes</td><td>Barcelona</td><td>Spain</td><td>41.3903</td><td>2.11667</td><td>85</td></tr><tr><td>68</td><td>buddh</td><td>Buddh International Circuit</td><td>Uttar Pradesh</td><td>India</td><td>28.3487</td><td>77.5331</td><td>194</td></tr><tr><td>69</td><td>americas</td><td>Circuit of the Americas</td><td>Austin</td><td>USA</td><td>30.1328</td><td>-97.6411</td><td>161</td></tr><tr><td>70</td><td>red_bull_ring</td><td>Red Bull Ring</td><td>Spielburg</td><td>Austria</td><td>47.2197</td><td>14.7647</td><td>678</td></tr><tr><td>71</td><td>sochi</td><td>Sochi Autodrom</td><td>Sochi</td><td>Russia</td><td>43.4057</td><td>39.9578</td><td>2</td></tr><tr><td>72</td><td>port_imperial</td><td>Port Imperial Street Circuit</td><td>New Jersey</td><td>USA</td><td>40.7769</td><td>-74.0111</td><td>4</td></tr><tr><td>73</td><td>BAK</td><td>Baku City Circuit</td><td>Baku</td><td>Azerbaijan</td><td>40.3725</td><td>49.8533</td><td>-7</td></tr><tr><td>74</td><td>hanoi</td><td>Hanoi Street Circuit</td><td>Hanoi</td><td>Vietnam</td><td>21.0166</td><td>105.766</td><td>9</td></tr><tr><td>75</td><td>portimao</td><td>Autódromo Internacional do Algarve</td><td>Portimão</td><td>Portugal</td><td>37.227</td><td>-8.6267</td><td>108</td></tr><tr><td>76</td><td>mugello</td><td>Autodromo Internazionale del Mugello</td><td>Mugello</td><td>Italy</td><td>43.9975</td><td>11.3719</td><td>255</td></tr><tr><td>77</td><td>jeddah</td><td>Jeddah Street Circuit</td><td>Jeddah</td><td>Saudi Arabia</td><td>21.5433</td><td>39.1728</td><td>15</td></tr></tbody></table></div>"
      ]
     },
     "metadata": {
      "application/vnd.databricks.v1+output": {
       "addedWidgets": {},
       "aggData": [],
       "aggError": "",
       "aggOverflow": false,
       "aggSchema": [],
       "aggSeriesLimitReached": false,
       "aggType": "",
       "arguments": {},
       "columnCustomDisplayInfos": {},
       "data": [
        [
         1,
         "albert_park",
         "Albert Park Grand Prix Circuit",
         "Melbourne",
         "Australia",
         -37.8497,
         144.968,
         10
        ],
        [
         2,
         "sepang",
         "Sepang International Circuit",
         "Kuala Lumpur",
         "Malaysia",
         2.76083,
         101.738,
         18
        ],
        [
         3,
         "bahrain",
         "Bahrain International Circuit",
         "Sakhir",
         "Bahrain",
         26.0325,
         50.5106,
         7
        ],
        [
         4,
         "catalunya",
         "Circuit de Barcelona-Catalunya",
         "Montmeló",
         "Spain",
         41.57,
         2.26111,
         109
        ],
        [
         5,
         "istanbul",
         "Istanbul Park",
         "Istanbul",
         "Turkey",
         40.9517,
         29.405,
         130
        ],
        [
         6,
         "monaco",
         "Circuit de Monaco",
         "Monte-Carlo",
         "Monaco",
         43.7347,
         7.42056,
         7
        ],
        [
         7,
         "villeneuve",
         "Circuit Gilles Villeneuve",
         "Montreal",
         "Canada",
         45.5,
         -73.5228,
         13
        ],
        [
         8,
         "magny_cours",
         "Circuit de Nevers Magny-Cours",
         "Magny Cours",
         "France",
         46.8642,
         3.16361,
         228
        ],
        [
         9,
         "silverstone",
         "Silverstone Circuit",
         "Silverstone",
         "UK",
         52.0786,
         -1.01694,
         153
        ],
        [
         10,
         "hockenheimring",
         "Hockenheimring",
         "Hockenheim",
         "Germany",
         49.3278,
         8.56583,
         103
        ],
        [
         11,
         "hungaroring",
         "Hungaroring",
         "Budapest",
         "Hungary",
         47.5789,
         19.2486,
         264
        ],
        [
         12,
         "valencia",
         "Valencia Street Circuit",
         "Valencia",
         "Spain",
         39.4589,
         -0.331667,
         4
        ],
        [
         13,
         "spa",
         "Circuit de Spa-Francorchamps",
         "Spa",
         "Belgium",
         50.4372,
         5.97139,
         401
        ],
        [
         14,
         "monza",
         "Autodromo Nazionale di Monza",
         "Monza",
         "Italy",
         45.6156,
         9.28111,
         162
        ],
        [
         15,
         "marina_bay",
         "Marina Bay Street Circuit",
         "Marina Bay",
         "Singapore",
         1.2914,
         103.864,
         18
        ],
        [
         16,
         "fuji",
         "Fuji Speedway",
         "Oyama",
         "Japan",
         35.3717,
         138.927,
         583
        ],
        [
         17,
         "shanghai",
         "Shanghai International Circuit",
         "Shanghai",
         "China",
         31.3389,
         121.22,
         5
        ],
        [
         18,
         "interlagos",
         "Autódromo José Carlos Pace",
         "São Paulo",
         "Brazil",
         -23.7036,
         -46.6997,
         785
        ],
        [
         19,
         "indianapolis",
         "Indianapolis Motor Speedway",
         "Indianapolis",
         "USA",
         39.795,
         -86.2347,
         223
        ],
        [
         20,
         "nurburgring",
         "Nürburgring",
         "Nürburg",
         "Germany",
         50.3356,
         6.9475,
         578
        ],
        [
         21,
         "imola",
         "Autodromo Enzo e Dino Ferrari",
         "Imola",
         "Italy",
         44.3439,
         11.7167,
         37
        ],
        [
         22,
         "suzuka",
         "Suzuka Circuit",
         "Suzuka",
         "Japan",
         34.8431,
         136.541,
         45
        ],
        [
         23,
         "osterreichring",
         "A1-Ring",
         "Spielburg",
         "Austria",
         47.2197,
         14.7647,
         678
        ],
        [
         24,
         "yas_marina",
         "Yas Marina Circuit",
         "Abu Dhabi",
         "UAE",
         24.4672,
         54.6031,
         3
        ],
        [
         25,
         "galvez",
         "Autódromo Juan y Oscar Gálvez",
         "Buenos Aires",
         "Argentina",
         -34.6943,
         -58.4593,
         8
        ],
        [
         26,
         "jerez",
         "Circuito de Jerez",
         "Jerez de la Frontera",
         "Spain",
         36.7083,
         -6.03417,
         37
        ],
        [
         27,
         "estoril",
         "Autódromo do Estoril",
         "Estoril",
         "Portugal",
         38.7506,
         -9.39417,
         130
        ],
        [
         28,
         "okayama",
         "Okayama International Circuit",
         "Okayama",
         "Japan",
         34.915,
         134.221,
         266
        ],
        [
         29,
         "adelaide",
         "Adelaide Street Circuit",
         "Adelaide",
         "Australia",
         -34.9272,
         138.617,
         58
        ],
        [
         30,
         "kyalami",
         "Kyalami",
         "Midrand",
         "South Africa",
         -25.9894,
         28.0767,
         1460
        ],
        [
         31,
         "donington",
         "Donington Park",
         "Castle Donington",
         "UK",
         52.8306,
         -1.37528,
         88
        ],
        [
         32,
         "rodriguez",
         "Autódromo Hermanos Rodríguez",
         "Mexico City",
         "Mexico",
         19.4042,
         -99.0907,
         2227
        ],
        [
         33,
         "phoenix",
         "Phoenix street circuit",
         "Phoenix",
         "USA",
         33.4479,
         -112.075,
         345
        ],
        [
         34,
         "ricard",
         "Circuit Paul Ricard",
         "Le Castellet",
         "France",
         43.2506,
         5.79167,
         432
        ],
        [
         35,
         "yeongam",
         "Korean International Circuit",
         "Yeongam County",
         "Korea",
         34.7333,
         126.417,
         0
        ],
        [
         36,
         "jacarepagua",
         "Autódromo Internacional Nelson Piquet",
         "Rio de Janeiro",
         "Brazil",
         -22.9756,
         -43.395,
         1126
        ],
        [
         37,
         "detroit",
         "Detroit Street Circuit",
         "Detroit",
         "USA",
         42.3298,
         -83.0401,
         177
        ],
        [
         38,
         "brands_hatch",
         "Brands Hatch",
         "Kent",
         "UK",
         51.3569,
         0.263056,
         145
        ],
        [
         39,
         "zandvoort",
         "Circuit Park Zandvoort",
         "Zandvoort",
         "Netherlands",
         52.3888,
         4.54092,
         6
        ],
        [
         40,
         "zolder",
         "Zolder",
         "Heusden-Zolder",
         "Belgium",
         50.9894,
         5.25694,
         36
        ],
        [
         41,
         "dijon",
         "Dijon-Prenois",
         "Dijon",
         "France",
         47.3625,
         4.89913,
         484
        ],
        [
         42,
         "dallas",
         "Fair Park",
         "Dallas",
         "USA",
         32.7774,
         -96.7587,
         139
        ],
        [
         43,
         "long_beach",
         "Long Beach",
         "California",
         "USA",
         33.7651,
         -118.189,
         12
        ],
        [
         44,
         "las_vegas",
         "Las Vegas Street Circuit",
         "Nevada",
         "USA",
         36.1162,
         -115.174,
         639
        ],
        [
         45,
         "jarama",
         "Jarama",
         "Madrid",
         "Spain",
         40.6171,
         -3.58558,
         609
        ],
        [
         46,
         "watkins_glen",
         "Watkins Glen",
         "New York State",
         "USA",
         42.3369,
         -76.9272,
         485
        ],
        [
         47,
         "anderstorp",
         "Scandinavian Raceway",
         "Anderstorp",
         "Sweden",
         57.2653,
         13.6042,
         153
        ],
        [
         48,
         "mosport",
         "Mosport International Raceway",
         "Ontario",
         "Canada",
         44.0481,
         -78.6756,
         332
        ],
        [
         49,
         "montjuic",
         "Montjuïc",
         "Barcelona",
         "Spain",
         41.3664,
         2.15167,
         79
        ],
        [
         50,
         "nivelles",
         "Nivelles-Baulers",
         "Brussels",
         "Belgium",
         50.6211,
         4.32694,
         139
        ],
        [
         51,
         "charade",
         "Charade Circuit",
         "Clermont-Ferrand",
         "France",
         45.7472,
         3.03889,
         790
        ],
        [
         52,
         "tremblant",
         "Circuit Mont-Tremblant",
         "Quebec",
         "Canada",
         46.1877,
         -74.6099,
         214
        ],
        [
         53,
         "essarts",
         "Rouen-Les-Essarts",
         "Rouen",
         "France",
         49.3306,
         1.00458,
         81
        ],
        [
         54,
         "lemans",
         "Le Mans",
         "Le Mans",
         "France",
         47.95,
         0.224231,
         67
        ],
        [
         55,
         "reims",
         "Reims-Gueux",
         "Reims",
         "France",
         49.2542,
         3.93083,
         88
        ],
        [
         56,
         "george",
         "Prince George Circuit",
         "Eastern Cape Province",
         "South Africa",
         -33.0486,
         27.8736,
         15
        ],
        [
         57,
         "zeltweg",
         "Zeltweg",
         "Styria",
         "Austria",
         47.2039,
         14.7478,
         676
        ],
        [
         58,
         "aintree",
         "Aintree",
         "Liverpool",
         "UK",
         53.4769,
         -2.94056,
         20
        ],
        [
         59,
         "boavista",
         "Circuito da Boavista",
         "Oporto",
         "Portugal",
         41.1705,
         -8.67325,
         28
        ],
        [
         60,
         "riverside",
         "Riverside International Raceway",
         "California",
         "USA",
         33.937,
         -117.273,
         470
        ],
        [
         61,
         "avus",
         "AVUS",
         "Berlin",
         "Germany",
         52.4806,
         13.2514,
         53
        ],
        [
         62,
         "monsanto",
         "Monsanto Park Circuit",
         "Lisbon",
         "Portugal",
         38.7197,
         -9.20306,
         158
        ],
        [
         63,
         "sebring",
         "Sebring International Raceway",
         "Florida",
         "USA",
         27.4547,
         -81.3483,
         18
        ],
        [
         64,
         "ain-diab",
         "Ain Diab",
         "Casablanca",
         "Morocco",
         33.5786,
         -7.6875,
         19
        ],
        [
         65,
         "pescara",
         "Pescara Circuit",
         "Pescara",
         "Italy",
         42.475,
         14.1508,
         129
        ],
        [
         66,
         "bremgarten",
         "Circuit Bremgarten",
         "Bern",
         "Switzerland",
         46.9589,
         7.40194,
         551
        ],
        [
         67,
         "pedralbes",
         "Circuit de Pedralbes",
         "Barcelona",
         "Spain",
         41.3903,
         2.11667,
         85
        ],
        [
         68,
         "buddh",
         "Buddh International Circuit",
         "Uttar Pradesh",
         "India",
         28.3487,
         77.5331,
         194
        ],
        [
         69,
         "americas",
         "Circuit of the Americas",
         "Austin",
         "USA",
         30.1328,
         -97.6411,
         161
        ],
        [
         70,
         "red_bull_ring",
         "Red Bull Ring",
         "Spielburg",
         "Austria",
         47.2197,
         14.7647,
         678
        ],
        [
         71,
         "sochi",
         "Sochi Autodrom",
         "Sochi",
         "Russia",
         43.4057,
         39.9578,
         2
        ],
        [
         72,
         "port_imperial",
         "Port Imperial Street Circuit",
         "New Jersey",
         "USA",
         40.7769,
         -74.0111,
         4
        ],
        [
         73,
         "BAK",
         "Baku City Circuit",
         "Baku",
         "Azerbaijan",
         40.3725,
         49.8533,
         -7
        ],
        [
         74,
         "hanoi",
         "Hanoi Street Circuit",
         "Hanoi",
         "Vietnam",
         21.0166,
         105.766,
         9
        ],
        [
         75,
         "portimao",
         "Autódromo Internacional do Algarve",
         "Portimão",
         "Portugal",
         37.227,
         -8.6267,
         108
        ],
        [
         76,
         "mugello",
         "Autodromo Internazionale del Mugello",
         "Mugello",
         "Italy",
         43.9975,
         11.3719,
         255
        ],
        [
         77,
         "jeddah",
         "Jeddah Street Circuit",
         "Jeddah",
         "Saudi Arabia",
         21.5433,
         39.1728,
         15
        ]
       ],
       "datasetInfos": [],
       "dbfsResultPath": null,
       "isJsonSchema": true,
       "metadata": {},
       "overflow": false,
       "plotOptions": {
        "customPlotOptions": {},
        "displayType": "table",
        "pivotAggregation": null,
        "pivotColumns": null,
        "xColumns": null,
        "yColumns": null
       },
       "removedWidgets": [],
       "schema": [
        {
         "metadata": "{}",
         "name": "circuit_id",
         "type": "\"integer\""
        },
        {
         "metadata": "{}",
         "name": "circuit_ref",
         "type": "\"string\""
        },
        {
         "metadata": "{}",
         "name": "Circuit_name",
         "type": "\"string\""
        },
        {
         "metadata": "{}",
         "name": "location",
         "type": "\"string\""
        },
        {
         "metadata": "{}",
         "name": "country",
         "type": "\"string\""
        },
        {
         "metadata": "{}",
         "name": "latitude",
         "type": "\"double\""
        },
        {
         "metadata": "{}",
         "name": "longitude",
         "type": "\"double\""
        },
        {
         "metadata": "{}",
         "name": "altitude",
         "type": "\"integer\""
        }
       ],
       "type": "table"
      }
     },
     "output_type": "display_data"
    }
   ],
   "source": [
    "circuits_final_df = circuits_selected_df.withColumnRenamed(\"circuitId\", \"circuit_id\") \\\n",
    ".withColumnRenamed(\"name\", \"Circuit_name\") \\\n",
    ".withColumnRenamed(\"circuitRef\", \"circuit_ref\") \\\n",
    ".withColumnRenamed(\"lat\", \"latitude\") \\\n",
    ".withColumnRenamed(\"lng\", \"longitude\") \\\n",
    ".withColumnRenamed(\"alt\", \"altitude\") \n",
    "display(circuits_final_df)"
   ]
  },
  {
   "cell_type": "markdown",
   "metadata": {
    "application/vnd.databricks.v1+cell": {
     "cellMetadata": {
      "byteLimit": 2048000,
      "rowLimit": 10000
     },
     "inputWidgets": {},
     "nuid": "1027548f-0e82-45b6-98a1-133b0590f029",
     "showTitle": false,
     "title": ""
    }
   },
   "source": [
    "###### e) Saving the output in the parquet format"
   ]
  },
  {
   "cell_type": "code",
   "execution_count": 0,
   "metadata": {
    "application/vnd.databricks.v1+cell": {
     "cellMetadata": {
      "byteLimit": 2048000,
      "rowLimit": 10000
     },
     "inputWidgets": {},
     "nuid": "1d65042b-dcff-447b-9f6d-adc3366b296f",
     "showTitle": false,
     "title": ""
    }
   },
   "outputs": [],
   "source": [
    "circuits_final_df.write.mode(\"overwrite\").parquet(\"abfss://processed@formula1wa.dfs.core.windows.net/circuits\")"
   ]
  },
  {
   "cell_type": "markdown",
   "metadata": {
    "application/vnd.databricks.v1+cell": {
     "cellMetadata": {
      "byteLimit": 2048000,
      "rowLimit": 10000
     },
     "inputWidgets": {},
     "nuid": "d60978cb-44b0-4f07-9af4-dfe15dbe05bc",
     "showTitle": false,
     "title": ""
    }
   },
   "source": [
    "#### Races"
   ]
  },
  {
   "cell_type": "markdown",
   "metadata": {
    "application/vnd.databricks.v1+cell": {
     "cellMetadata": {
      "byteLimit": 2048000,
      "rowLimit": 10000
     },
     "inputWidgets": {},
     "nuid": "927ba0a4-6780-44b1-8b0a-59e56adc6e54",
     "showTitle": false,
     "title": ""
    }
   },
   "source": [
    "###### a) This part of code provides classes for defining the schema of a DataFrame"
   ]
  },
  {
   "cell_type": "code",
   "execution_count": 0,
   "metadata": {
    "application/vnd.databricks.v1+cell": {
     "cellMetadata": {
      "byteLimit": 2048000,
      "rowLimit": 10000
     },
     "inputWidgets": {},
     "nuid": "737e2204-3bb2-4e2f-b7e9-7afee5673aee",
     "showTitle": false,
     "title": ""
    }
   },
   "outputs": [],
   "source": [
    "from pyspark.sql.types import StructType, StructField, IntegerType, StringType, DateType"
   ]
  },
  {
   "cell_type": "markdown",
   "metadata": {
    "application/vnd.databricks.v1+cell": {
     "cellMetadata": {
      "byteLimit": 2048000,
      "rowLimit": 10000
     },
     "inputWidgets": {},
     "nuid": "155a2f94-96ae-421f-9380-4299e46936bd",
     "showTitle": false,
     "title": ""
    }
   },
   "source": [
    "###### b) Defining a new schema"
   ]
  },
  {
   "cell_type": "code",
   "execution_count": 0,
   "metadata": {
    "application/vnd.databricks.v1+cell": {
     "cellMetadata": {
      "byteLimit": 2048000,
      "rowLimit": 10000
     },
     "inputWidgets": {},
     "nuid": "75f858a6-5eb1-4fed-be14-575787488a70",
     "showTitle": false,
     "title": ""
    }
   },
   "outputs": [],
   "source": [
    "races_schema = StructType(fields=[StructField(\"raceId\", IntegerType(), False),\n",
    "                                  StructField(\"year\", IntegerType(), True),\n",
    "                                  StructField(\"round\", IntegerType(), True),\n",
    "                                  StructField(\"circuitId\", IntegerType(), True),\n",
    "                                  StructField(\"name\", StringType(), True),\n",
    "                                  StructField(\"date\", DateType(), True),\n",
    "                                  StructField(\"time\", StringType(), True),\n",
    "                                  StructField(\"url\", StringType(), True)\n",
    "])"
   ]
  },
  {
   "cell_type": "markdown",
   "metadata": {
    "application/vnd.databricks.v1+cell": {
     "cellMetadata": {
      "byteLimit": 2048000,
      "rowLimit": 10000
     },
     "inputWidgets": {},
     "nuid": "f418d7b7-18ef-4c95-b063-345b7f1707d3",
     "showTitle": false,
     "title": ""
    }
   },
   "source": [
    "###### c) Ingest CSV file into a PySpark DataFrame using the spark.read.csv() method"
   ]
  },
  {
   "cell_type": "code",
   "execution_count": 0,
   "metadata": {
    "application/vnd.databricks.v1+cell": {
     "cellMetadata": {
      "byteLimit": 2048000,
      "rowLimit": 10000
     },
     "inputWidgets": {},
     "nuid": "691eac74-fd4d-4d86-849b-37738f42a9b5",
     "showTitle": false,
     "title": ""
    }
   },
   "outputs": [],
   "source": [
    "races_df = spark.read \\\n",
    ".option(\"header\", True) \\\n",
    ".schema(races_schema) \\\n",
    ".csv(\"abfss://raw@formula1wa.dfs.core.windows.net/races.csv\")"
   ]
  },
  {
   "cell_type": "markdown",
   "metadata": {
    "application/vnd.databricks.v1+cell": {
     "cellMetadata": {
      "byteLimit": 2048000,
      "rowLimit": 10000
     },
     "inputWidgets": {},
     "nuid": "4867c703-6ede-4552-ba4d-3786cee2c2d5",
     "showTitle": false,
     "title": ""
    }
   },
   "source": [
    "###### d) Selecting specific columns from the races_df using col() function"
   ]
  },
  {
   "cell_type": "code",
   "execution_count": 0,
   "metadata": {
    "application/vnd.databricks.v1+cell": {
     "cellMetadata": {
      "byteLimit": 2048000,
      "rowLimit": 10000
     },
     "inputWidgets": {},
     "nuid": "48d89e7e-0ae1-4846-a359-e9da3ddbe1cb",
     "showTitle": false,
     "title": ""
    }
   },
   "outputs": [],
   "source": [
    "from pyspark.sql.functions import col"
   ]
  },
  {
   "cell_type": "code",
   "execution_count": 0,
   "metadata": {
    "application/vnd.databricks.v1+cell": {
     "cellMetadata": {
      "byteLimit": 2048000,
      "rowLimit": 10000
     },
     "inputWidgets": {},
     "nuid": "258218c6-82d1-48c9-87d3-0d281dc486e2",
     "showTitle": false,
     "title": ""
    }
   },
   "outputs": [],
   "source": [
    "races_final_df = races_df.select(col('raceId').alias('race_id'), col('year').alias('race_year'), col('round'), col('circuitId').alias('circuit_id'),col('name'), col('date'), col('time'))\n",
    "display(races_final_df)"
   ]
  },
  {
   "cell_type": "markdown",
   "metadata": {
    "application/vnd.databricks.v1+cell": {
     "cellMetadata": {
      "byteLimit": 2048000,
      "rowLimit": 10000
     },
     "inputWidgets": {},
     "nuid": "d40358ef-7d99-4e6d-b8ea-c2b057571586",
     "showTitle": false,
     "title": ""
    }
   },
   "source": [
    "###### e) Saving the output in the parquet format"
   ]
  },
  {
   "cell_type": "code",
   "execution_count": 0,
   "metadata": {
    "application/vnd.databricks.v1+cell": {
     "cellMetadata": {
      "byteLimit": 2048000,
      "rowLimit": 10000
     },
     "inputWidgets": {},
     "nuid": "8664ad9e-c225-4431-a8c5-2e1ff8e06618",
     "showTitle": false,
     "title": ""
    }
   },
   "outputs": [],
   "source": [
    "races_final_df.write.mode('overwrite').parquet('abfss://processed@formula1wa.dfs.core.windows.net/races')\n"
   ]
  },
  {
   "cell_type": "markdown",
   "metadata": {
    "application/vnd.databricks.v1+cell": {
     "cellMetadata": {
      "byteLimit": 2048000,
      "rowLimit": 10000
     },
     "inputWidgets": {},
     "nuid": "3cf10a0b-c471-4da3-abfb-51c7034e441a",
     "showTitle": false,
     "title": ""
    }
   },
   "source": [
    "### Constructors"
   ]
  },
  {
   "cell_type": "markdown",
   "metadata": {
    "application/vnd.databricks.v1+cell": {
     "cellMetadata": {
      "byteLimit": 2048000,
      "rowLimit": 10000
     },
     "inputWidgets": {},
     "nuid": "2315117c-baa4-4eb1-a423-b0eadc29a2f4",
     "showTitle": false,
     "title": ""
    }
   },
   "source": [
    "###### a) Defining a new schema"
   ]
  },
  {
   "cell_type": "code",
   "execution_count": 0,
   "metadata": {
    "application/vnd.databricks.v1+cell": {
     "cellMetadata": {
      "byteLimit": 2048000,
      "rowLimit": 10000
     },
     "inputWidgets": {},
     "nuid": "b6901943-6d05-4b02-a413-711f9bb680b8",
     "showTitle": false,
     "title": ""
    }
   },
   "outputs": [],
   "source": [
    "constructors_schema = \"constructorId INT, constructorRef STRING, name STRING, nationality STRING, url STRING\""
   ]
  },
  {
   "cell_type": "markdown",
   "metadata": {
    "application/vnd.databricks.v1+cell": {
     "cellMetadata": {
      "byteLimit": 2048000,
      "rowLimit": 10000
     },
     "inputWidgets": {},
     "nuid": "5429b127-8bec-45d6-b407-83747601bcdd",
     "showTitle": false,
     "title": ""
    }
   },
   "source": [
    "###### b) Ingest JSON file into a PySpark DataFrame using the spark.read.json() method"
   ]
  },
  {
   "cell_type": "code",
   "execution_count": 0,
   "metadata": {
    "application/vnd.databricks.v1+cell": {
     "cellMetadata": {
      "byteLimit": 2048000,
      "rowLimit": 10000
     },
     "inputWidgets": {},
     "nuid": "8f8eec0c-8ac8-4465-825c-9ad96bc44685",
     "showTitle": false,
     "title": ""
    }
   },
   "outputs": [],
   "source": [
    "constructor_df = spark.read \\\n",
    ".schema(constructors_schema) \\\n",
    ".json(\"abfss://raw@formula1wa.dfs.core.windows.net/constructors.json\")"
   ]
  },
  {
   "cell_type": "markdown",
   "metadata": {
    "application/vnd.databricks.v1+cell": {
     "cellMetadata": {
      "byteLimit": 2048000,
      "rowLimit": 10000
     },
     "inputWidgets": {},
     "nuid": "1b90399f-6407-4a41-992d-73927efa15bc",
     "showTitle": false,
     "title": ""
    }
   },
   "source": [
    "###### c) Renaming the columns"
   ]
  },
  {
   "cell_type": "code",
   "execution_count": 0,
   "metadata": {
    "application/vnd.databricks.v1+cell": {
     "cellMetadata": {
      "byteLimit": 2048000,
      "rowLimit": 10000
     },
     "inputWidgets": {},
     "nuid": "652fbd20-32cd-47ba-a857-9c5107e6ec1d",
     "showTitle": false,
     "title": ""
    }
   },
   "outputs": [],
   "source": [
    "constructor_dropped_df = constructor_df.drop(col('url'))"
   ]
  },
  {
   "cell_type": "markdown",
   "metadata": {
    "application/vnd.databricks.v1+cell": {
     "cellMetadata": {
      "byteLimit": 2048000,
      "rowLimit": 10000
     },
     "inputWidgets": {},
     "nuid": "9f8d72e2-fbd8-4563-9e60-a4d2292cc372",
     "showTitle": false,
     "title": ""
    }
   },
   "source": [
    "###### d) Selecting specific columns from the constructors_df using col() function"
   ]
  },
  {
   "cell_type": "code",
   "execution_count": 0,
   "metadata": {
    "application/vnd.databricks.v1+cell": {
     "cellMetadata": {
      "byteLimit": 2048000,
      "rowLimit": 10000
     },
     "inputWidgets": {},
     "nuid": "59a3e1b4-371b-4ef3-9288-3b633e3bb7be",
     "showTitle": false,
     "title": ""
    }
   },
   "outputs": [],
   "source": [
    "from pyspark.sql.functions import col"
   ]
  },
  {
   "cell_type": "code",
   "execution_count": 0,
   "metadata": {
    "application/vnd.databricks.v1+cell": {
     "cellMetadata": {
      "byteLimit": 2048000,
      "rowLimit": 10000
     },
     "inputWidgets": {},
     "nuid": "de9663ba-82e0-4b04-b8e6-ed5001c239cd",
     "showTitle": false,
     "title": ""
    }
   },
   "outputs": [
    {
     "output_type": "display_data",
     "data": {
      "text/html": [
       "<style scoped>\n",
       "  .table-result-container {\n",
       "    max-height: 300px;\n",
       "    overflow: auto;\n",
       "  }\n",
       "  table, th, td {\n",
       "    border: 1px solid black;\n",
       "    border-collapse: collapse;\n",
       "  }\n",
       "  th, td {\n",
       "    padding: 5px;\n",
       "  }\n",
       "  th {\n",
       "    text-align: left;\n",
       "  }\n",
       "</style><div class='table-result-container'><table class='table-result'><thead style='background-color: white'><tr><th>constructor_id</th><th>constructor_ref</th><th>name</th><th>nationality</th></tr></thead><tbody><tr><td>1</td><td>mclaren</td><td>McLaren</td><td>British</td></tr><tr><td>2</td><td>bmw_sauber</td><td>BMW Sauber</td><td>German</td></tr><tr><td>3</td><td>williams</td><td>Williams</td><td>British</td></tr><tr><td>4</td><td>renault</td><td>Renault</td><td>French</td></tr><tr><td>5</td><td>toro_rosso</td><td>Toro Rosso</td><td>Italian</td></tr><tr><td>6</td><td>ferrari</td><td>Ferrari</td><td>Italian</td></tr><tr><td>7</td><td>toyota</td><td>Toyota</td><td>Japanese</td></tr><tr><td>8</td><td>super_aguri</td><td>Super Aguri</td><td>Japanese</td></tr><tr><td>9</td><td>red_bull</td><td>Red Bull</td><td>Austrian</td></tr><tr><td>10</td><td>force_india</td><td>Force India</td><td>Indian</td></tr><tr><td>11</td><td>honda</td><td>Honda</td><td>Japanese</td></tr><tr><td>12</td><td>spyker</td><td>Spyker</td><td>Dutch</td></tr><tr><td>13</td><td>mf1</td><td>MF1</td><td>Russian</td></tr><tr><td>14</td><td>spyker_mf1</td><td>Spyker MF1</td><td>Dutch</td></tr><tr><td>15</td><td>sauber</td><td>Sauber</td><td>Swiss</td></tr><tr><td>16</td><td>bar</td><td>BAR</td><td>British</td></tr><tr><td>17</td><td>jordan</td><td>Jordan</td><td>Irish</td></tr><tr><td>18</td><td>minardi</td><td>Minardi</td><td>Italian</td></tr><tr><td>19</td><td>jaguar</td><td>Jaguar</td><td>British</td></tr><tr><td>20</td><td>prost</td><td>Prost</td><td>French</td></tr><tr><td>21</td><td>arrows</td><td>Arrows</td><td>British</td></tr><tr><td>22</td><td>benetton</td><td>Benetton</td><td>Italian</td></tr><tr><td>23</td><td>brawn</td><td>Brawn</td><td>British</td></tr><tr><td>24</td><td>stewart</td><td>Stewart</td><td>British</td></tr><tr><td>25</td><td>tyrrell</td><td>Tyrrell</td><td>British</td></tr><tr><td>26</td><td>lola</td><td>Lola</td><td>British</td></tr><tr><td>27</td><td>ligier</td><td>Ligier</td><td>French</td></tr><tr><td>28</td><td>forti</td><td>Forti</td><td>Italian</td></tr><tr><td>29</td><td>footwork</td><td>Footwork</td><td>British</td></tr><tr><td>30</td><td>pacific</td><td>Pacific</td><td>British</td></tr><tr><td>31</td><td>simtek</td><td>Simtek</td><td>British</td></tr><tr><td>32</td><td>team_lotus</td><td>Team Lotus</td><td>British</td></tr><tr><td>33</td><td>larrousse</td><td>Larrousse</td><td>French</td></tr><tr><td>34</td><td>brabham</td><td>Brabham</td><td>British</td></tr><tr><td>35</td><td>dallara</td><td>Dallara</td><td>Italian</td></tr><tr><td>36</td><td>fondmetal</td><td>Fondmetal</td><td>Italian</td></tr><tr><td>37</td><td>march</td><td>March</td><td>British</td></tr><tr><td>38</td><td>moda</td><td>Andrea Moda</td><td>Italian</td></tr><tr><td>39</td><td>ags</td><td>AGS</td><td>French</td></tr><tr><td>40</td><td>lambo</td><td>Lambo</td><td>Italian</td></tr><tr><td>41</td><td>leyton</td><td>Leyton House</td><td>British</td></tr><tr><td>42</td><td>coloni</td><td>Coloni</td><td>Italian</td></tr><tr><td>44</td><td>eurobrun</td><td>Euro Brun</td><td>Italian</td></tr><tr><td>45</td><td>osella</td><td>Osella</td><td>Italian</td></tr><tr><td>46</td><td>onyx</td><td>Onyx</td><td>British</td></tr><tr><td>47</td><td>life</td><td>Life</td><td>Italian</td></tr><tr><td>48</td><td>rial</td><td>Rial</td><td>German</td></tr><tr><td>49</td><td>zakspeed</td><td>Zakspeed</td><td>German</td></tr><tr><td>50</td><td>ram</td><td>RAM</td><td>British</td></tr><tr><td>51</td><td>alfa</td><td>Alfa Romeo</td><td>Italian</td></tr><tr><td>52</td><td>spirit</td><td>Spirit</td><td>British</td></tr><tr><td>53</td><td>toleman</td><td>Toleman</td><td>British</td></tr><tr><td>54</td><td>ats</td><td>ATS</td><td>Italian</td></tr><tr><td>55</td><td>theodore</td><td>Theodore</td><td>Hong Kong</td></tr><tr><td>56</td><td>fittipaldi</td><td>Fittipaldi</td><td>Brazilian</td></tr><tr><td>57</td><td>ensign</td><td>Ensign</td><td>British</td></tr><tr><td>58</td><td>shadow</td><td>Shadow</td><td>British</td></tr><tr><td>59</td><td>wolf</td><td>Wolf</td><td>Canadian</td></tr><tr><td>60</td><td>merzario</td><td>Merzario</td><td>Italian</td></tr><tr><td>61</td><td>kauhsen</td><td>Kauhsen</td><td>German</td></tr><tr><td>62</td><td>rebaque</td><td>Rebaque</td><td>Mexican</td></tr><tr><td>63</td><td>surtees</td><td>Surtees</td><td>British</td></tr><tr><td>64</td><td>hesketh</td><td>Hesketh</td><td>British</td></tr><tr><td>65</td><td>martini</td><td>Martini</td><td>French</td></tr><tr><td>66</td><td>brm</td><td>BRM</td><td>British</td></tr><tr><td>67</td><td>penske</td><td>Penske</td><td>American</td></tr><tr><td>68</td><td>lec</td><td>LEC</td><td>British</td></tr><tr><td>69</td><td>mcguire</td><td>McGuire</td><td>Australian</td></tr><tr><td>70</td><td>boro</td><td>Boro</td><td>Dutch</td></tr><tr><td>71</td><td>apollon</td><td>Apollon</td><td>Swiss</td></tr><tr><td>72</td><td>kojima</td><td>Kojima</td><td>Japanese</td></tr><tr><td>73</td><td>parnelli</td><td>Parnelli</td><td>American</td></tr><tr><td>74</td><td>maki</td><td>Maki</td><td>Japanese</td></tr><tr><td>75</td><td>hill</td><td>Embassy Hill</td><td>British</td></tr><tr><td>76</td><td>lyncar</td><td>Lyncar</td><td>British</td></tr><tr><td>77</td><td>trojan</td><td>Trojan</td><td>British</td></tr><tr><td>78</td><td>amon</td><td>Amon</td><td>New Zealand</td></tr><tr><td>79</td><td>token</td><td>Token</td><td>British</td></tr><tr><td>80</td><td>iso_marlboro</td><td>Iso Marlboro</td><td>British</td></tr><tr><td>81</td><td>tecno</td><td>Tecno</td><td>Italian</td></tr><tr><td>82</td><td>matra</td><td>Matra</td><td>French</td></tr><tr><td>83</td><td>politoys</td><td>Politoys</td><td>British</td></tr><tr><td>84</td><td>connew</td><td>Connew</td><td>British</td></tr><tr><td>85</td><td>bellasi</td><td>Bellasi</td><td>Swiss</td></tr><tr><td>86</td><td>tomaso</td><td>De Tomaso</td><td>Italian</td></tr><tr><td>87</td><td>cooper</td><td>Cooper</td><td>British</td></tr><tr><td>88</td><td>eagle</td><td>Eagle</td><td>American</td></tr><tr><td>89</td><td>lds</td><td>LDS</td><td>South African</td></tr><tr><td>90</td><td>protos</td><td>Protos</td><td>British</td></tr><tr><td>91</td><td>shannon</td><td>Shannon</td><td>British</td></tr><tr><td>92</td><td>scirocco</td><td>Scirocco</td><td>British</td></tr><tr><td>93</td><td>re</td><td>RE</td><td>Rhodesian</td></tr><tr><td>94</td><td>brp</td><td>BRP</td><td>British</td></tr><tr><td>95</td><td>porsche</td><td>Porsche</td><td>German</td></tr><tr><td>96</td><td>derrington</td><td>Derrington</td><td>British</td></tr><tr><td>97</td><td>gilby</td><td>Gilby</td><td>British</td></tr><tr><td>98</td><td>stebro</td><td>Stebro</td><td>Canadian</td></tr><tr><td>99</td><td>emeryson</td><td>Emeryson</td><td>British</td></tr><tr><td>100</td><td>enb</td><td>ENB</td><td>Belgium</td></tr><tr><td>101</td><td>jbw</td><td>JBW</td><td>British</td></tr><tr><td>102</td><td>ferguson</td><td>Ferguson</td><td>British</td></tr><tr><td>103</td><td>mbm</td><td>MBM</td><td>Swiss</td></tr><tr><td>104</td><td>behra-porsche</td><td>Behra-Porsche</td><td>Italian</td></tr><tr><td>105</td><td>maserati</td><td>Maserati</td><td>Italian</td></tr><tr><td>106</td><td>scarab</td><td>Scarab</td><td>American</td></tr><tr><td>107</td><td>watson</td><td>Watson</td><td>American</td></tr><tr><td>108</td><td>epperly</td><td>Epperly</td><td>American</td></tr><tr><td>109</td><td>phillips</td><td>Phillips</td><td>American</td></tr><tr><td>110</td><td>lesovsky</td><td>Lesovsky</td><td>American</td></tr><tr><td>111</td><td>trevis</td><td>Trevis</td><td>American</td></tr><tr><td>112</td><td>meskowski</td><td>Meskowski</td><td>American</td></tr><tr><td>113</td><td>kurtis_kraft</td><td>Kurtis Kraft</td><td>American</td></tr><tr><td>114</td><td>kuzma</td><td>Kuzma</td><td>American</td></tr><tr><td>115</td><td>vhristensen</td><td>Christensen</td><td>American</td></tr><tr><td>116</td><td>ewing</td><td>Ewing</td><td>American</td></tr><tr><td>117</td><td>aston_martin</td><td>Aston Martin</td><td>British</td></tr><tr><td>118</td><td>vanwall</td><td>Vanwall</td><td>British</td></tr><tr><td>119</td><td>moore</td><td>Moore</td><td>American</td></tr><tr><td>120</td><td>dunn</td><td>Dunn</td><td>American</td></tr><tr><td>121</td><td>elder</td><td>Elder</td><td>American</td></tr><tr><td>122</td><td>sutton</td><td>Sutton</td><td>American</td></tr><tr><td>123</td><td>fry</td><td>Fry</td><td>British</td></tr><tr><td>124</td><td>tec-mec</td><td>Tec-Mec</td><td>Italian</td></tr><tr><td>125</td><td>connaught</td><td>Connaught</td><td>British</td></tr><tr><td>126</td><td>alta</td><td>Alta</td><td>British</td></tr><tr><td>127</td><td>osca</td><td>OSCA</td><td>Italian</td></tr><tr><td>128</td><td>gordini</td><td>Gordini</td><td>French</td></tr><tr><td>129</td><td>stevens</td><td>Stevens</td><td>American</td></tr><tr><td>130</td><td>bugatti</td><td>Bugatti</td><td>French</td></tr><tr><td>131</td><td>mercedes</td><td>Mercedes</td><td>German</td></tr><tr><td>132</td><td>lancia</td><td>Lancia</td><td>Italian</td></tr><tr><td>133</td><td>hwm</td><td>HWM</td><td>British</td></tr><tr><td>134</td><td>schroeder</td><td>Schroeder</td><td>American</td></tr><tr><td>135</td><td>pawl</td><td>Pawl</td><td>American</td></tr><tr><td>136</td><td>pankratz</td><td>Pankratz</td><td>American</td></tr><tr><td>137</td><td>arzani-volpini</td><td>Arzani-Volpini</td><td>Italian</td></tr><tr><td>138</td><td>nichels</td><td>Nichels</td><td>American</td></tr><tr><td>139</td><td>bromme</td><td>Bromme</td><td>American</td></tr><tr><td>140</td><td>klenk</td><td>Klenk</td><td>German</td></tr><tr><td>141</td><td>simca</td><td>Simca</td><td>French</td></tr><tr><td>142</td><td>turner</td><td>Turner</td><td>American</td></tr><tr><td>143</td><td>del_roy</td><td>Del Roy</td><td>American</td></tr><tr><td>144</td><td>veritas</td><td>Veritas</td><td>German</td></tr><tr><td>145</td><td>bmw</td><td>BMW</td><td>German</td></tr><tr><td>146</td><td>emw</td><td>EMW</td><td>East German</td></tr><tr><td>147</td><td>afm</td><td>AFM</td><td>German</td></tr><tr><td>148</td><td>frazer_nash</td><td>Frazer Nash</td><td>British</td></tr><tr><td>149</td><td>sherman</td><td>Sherman</td><td>American</td></tr><tr><td>150</td><td>deidt</td><td>Deidt</td><td>American</td></tr><tr><td>151</td><td>era</td><td>ERA</td><td>British</td></tr><tr><td>152</td><td>butterworth</td><td>Aston Butterworth</td><td>British</td></tr><tr><td>153</td><td>cisitalia</td><td>Cisitalia</td><td>Italian</td></tr><tr><td>154</td><td>lago</td><td>Talbot-Lago</td><td>French</td></tr><tr><td>155</td><td>hall</td><td>Hall</td><td>American</td></tr><tr><td>156</td><td>marchese</td><td>Marchese</td><td>American</td></tr><tr><td>157</td><td>langley</td><td>Langley</td><td>American</td></tr><tr><td>158</td><td>rae</td><td>Rae</td><td>American</td></tr><tr><td>159</td><td>olson</td><td>Olson</td><td>American</td></tr><tr><td>160</td><td>wetteroth</td><td>Wetteroth</td><td>American</td></tr><tr><td>161</td><td>adams</td><td>Adams</td><td>American</td></tr><tr><td>162</td><td>snowberger</td><td>Snowberger</td><td>American</td></tr><tr><td>163</td><td>milano</td><td>Milano</td><td>Italian</td></tr><tr><td>164</td><td>hrt</td><td>HRT</td><td>Spanish</td></tr><tr><td>167</td><td>cooper-maserati</td><td>Cooper-Maserati</td><td>British</td></tr><tr><td>166</td><td>virgin</td><td>Virgin</td><td>British</td></tr><tr><td>168</td><td>cooper-osca</td><td>Cooper-OSCA</td><td>British</td></tr><tr><td>169</td><td>cooper-borgward</td><td>Cooper-Borgward</td><td>British</td></tr><tr><td>170</td><td>cooper-climax</td><td>Cooper-Climax</td><td>British</td></tr><tr><td>171</td><td>cooper-castellotti</td><td>Cooper-Castellotti</td><td>British</td></tr><tr><td>172</td><td>lotus-climax</td><td>Lotus-Climax</td><td>British</td></tr><tr><td>173</td><td>lotus-maserati</td><td>Lotus-Maserati</td><td>British</td></tr><tr><td>174</td><td>de_tomaso-osca</td><td>De Tomaso-Osca</td><td>Italian</td></tr><tr><td>175</td><td>de_tomaso-alfa_romeo</td><td>De Tomaso-Alfa Romeo</td><td>Italian</td></tr><tr><td>176</td><td>lotus-brm</td><td>Lotus-BRM</td><td>British</td></tr><tr><td>177</td><td>lotus-borgward</td><td>Lotus-Borgward</td><td>British</td></tr><tr><td>178</td><td>cooper-alfa_romeo</td><td>Cooper-Alfa Romeo</td><td>British</td></tr><tr><td>179</td><td>de_tomaso-ferrari</td><td>De Tomaso-Ferrari</td><td>Italian</td></tr><tr><td>180</td><td>lotus-ford</td><td>Lotus-Ford</td><td>British</td></tr><tr><td>181</td><td>brabham-brm</td><td>Brabham-BRM</td><td>British</td></tr><tr><td>182</td><td>brabham-ford</td><td>Brabham-Ford</td><td>British</td></tr><tr><td>183</td><td>brabham-climax</td><td>Brabham-Climax</td><td>British</td></tr><tr><td>184</td><td>lds-climax</td><td>LDS-Climax</td><td>South African</td></tr><tr><td>185</td><td>lds-alfa_romeo</td><td>LDS-Alfa Romeo</td><td>South African</td></tr><tr><td>186</td><td>cooper-ford</td><td>Cooper-Ford</td><td>British</td></tr><tr><td>187</td><td>mclaren-ford</td><td>McLaren-Ford</td><td>British</td></tr><tr><td>188</td><td>mclaren-seren</td><td>McLaren-Serenissima</td><td>British</td></tr><tr><td>189</td><td>eagle-climax</td><td>Eagle-Climax</td><td>American</td></tr><tr><td>190</td><td>eagle-weslake</td><td>Eagle-Weslake</td><td>American</td></tr><tr><td>191</td><td>brabham-repco</td><td>Brabham-Repco</td><td>British</td></tr><tr><td>192</td><td>cooper-ferrari</td><td>Cooper-Ferrari</td><td>British</td></tr><tr><td>193</td><td>cooper-ats</td><td>Cooper-ATS</td><td>British</td></tr><tr><td>194</td><td>mclaren-brm</td><td>McLaren-BRM</td><td>British</td></tr><tr><td>195</td><td>cooper-brm</td><td>Cooper-BRM</td><td>British</td></tr><tr><td>196</td><td>matra-ford</td><td>Matra-Ford</td><td>French</td></tr><tr><td>197</td><td>brm-ford</td><td>BRM-Ford</td><td>British</td></tr><tr><td>198</td><td>mclaren-alfa_romeo</td><td>McLaren-Alfa Romeo</td><td>British</td></tr><tr><td>199</td><td>march-alfa_romeo</td><td>March-Alfa Romeo</td><td>British</td></tr><tr><td>200</td><td>march-ford</td><td>March-Ford</td><td>British</td></tr><tr><td>201</td><td>lotus-pw</td><td>Lotus-Pratt &amp; Whitney</td><td>British</td></tr><tr><td>202</td><td>shadow-ford</td><td>Shadow-Ford</td><td>British</td></tr><tr><td>203</td><td>shadow-matra</td><td>Shadow-Matra</td><td>British</td></tr><tr><td>204</td><td>brabham-alfa_romeo</td><td>Brabham-Alfa Romeo</td><td>British</td></tr><tr><td>205</td><td>lotus_racing</td><td>Lotus</td><td>Malaysian</td></tr><tr><td>206</td><td>marussia</td><td>Marussia</td><td>Russian</td></tr><tr><td>207</td><td>caterham</td><td>Caterham</td><td>Malaysian</td></tr><tr><td>208</td><td>lotus_f1</td><td>Lotus F1</td><td>British</td></tr><tr><td>209</td><td>manor</td><td>Manor Marussia</td><td>British</td></tr><tr><td>210</td><td>haas</td><td>Haas F1 Team</td><td>American</td></tr><tr><td>211</td><td>racing_point</td><td>Racing Point</td><td>British</td></tr><tr><td>213</td><td>alphatauri</td><td>AlphaTauri</td><td>Italian</td></tr><tr><td>214</td><td>alpine</td><td>Alpine F1 Team</td><td>French</td></tr></tbody></table></div>"
      ]
     },
     "metadata": {
      "application/vnd.databricks.v1+output": {
       "addedWidgets": {},
       "aggData": [],
       "aggError": "",
       "aggOverflow": false,
       "aggSchema": [],
       "aggSeriesLimitReached": false,
       "aggType": "",
       "arguments": {},
       "columnCustomDisplayInfos": {},
       "data": [
        [
         1,
         "mclaren",
         "McLaren",
         "British"
        ],
        [
         2,
         "bmw_sauber",
         "BMW Sauber",
         "German"
        ],
        [
         3,
         "williams",
         "Williams",
         "British"
        ],
        [
         4,
         "renault",
         "Renault",
         "French"
        ],
        [
         5,
         "toro_rosso",
         "Toro Rosso",
         "Italian"
        ],
        [
         6,
         "ferrari",
         "Ferrari",
         "Italian"
        ],
        [
         7,
         "toyota",
         "Toyota",
         "Japanese"
        ],
        [
         8,
         "super_aguri",
         "Super Aguri",
         "Japanese"
        ],
        [
         9,
         "red_bull",
         "Red Bull",
         "Austrian"
        ],
        [
         10,
         "force_india",
         "Force India",
         "Indian"
        ],
        [
         11,
         "honda",
         "Honda",
         "Japanese"
        ],
        [
         12,
         "spyker",
         "Spyker",
         "Dutch"
        ],
        [
         13,
         "mf1",
         "MF1",
         "Russian"
        ],
        [
         14,
         "spyker_mf1",
         "Spyker MF1",
         "Dutch"
        ],
        [
         15,
         "sauber",
         "Sauber",
         "Swiss"
        ],
        [
         16,
         "bar",
         "BAR",
         "British"
        ],
        [
         17,
         "jordan",
         "Jordan",
         "Irish"
        ],
        [
         18,
         "minardi",
         "Minardi",
         "Italian"
        ],
        [
         19,
         "jaguar",
         "Jaguar",
         "British"
        ],
        [
         20,
         "prost",
         "Prost",
         "French"
        ],
        [
         21,
         "arrows",
         "Arrows",
         "British"
        ],
        [
         22,
         "benetton",
         "Benetton",
         "Italian"
        ],
        [
         23,
         "brawn",
         "Brawn",
         "British"
        ],
        [
         24,
         "stewart",
         "Stewart",
         "British"
        ],
        [
         25,
         "tyrrell",
         "Tyrrell",
         "British"
        ],
        [
         26,
         "lola",
         "Lola",
         "British"
        ],
        [
         27,
         "ligier",
         "Ligier",
         "French"
        ],
        [
         28,
         "forti",
         "Forti",
         "Italian"
        ],
        [
         29,
         "footwork",
         "Footwork",
         "British"
        ],
        [
         30,
         "pacific",
         "Pacific",
         "British"
        ],
        [
         31,
         "simtek",
         "Simtek",
         "British"
        ],
        [
         32,
         "team_lotus",
         "Team Lotus",
         "British"
        ],
        [
         33,
         "larrousse",
         "Larrousse",
         "French"
        ],
        [
         34,
         "brabham",
         "Brabham",
         "British"
        ],
        [
         35,
         "dallara",
         "Dallara",
         "Italian"
        ],
        [
         36,
         "fondmetal",
         "Fondmetal",
         "Italian"
        ],
        [
         37,
         "march",
         "March",
         "British"
        ],
        [
         38,
         "moda",
         "Andrea Moda",
         "Italian"
        ],
        [
         39,
         "ags",
         "AGS",
         "French"
        ],
        [
         40,
         "lambo",
         "Lambo",
         "Italian"
        ],
        [
         41,
         "leyton",
         "Leyton House",
         "British"
        ],
        [
         42,
         "coloni",
         "Coloni",
         "Italian"
        ],
        [
         44,
         "eurobrun",
         "Euro Brun",
         "Italian"
        ],
        [
         45,
         "osella",
         "Osella",
         "Italian"
        ],
        [
         46,
         "onyx",
         "Onyx",
         "British"
        ],
        [
         47,
         "life",
         "Life",
         "Italian"
        ],
        [
         48,
         "rial",
         "Rial",
         "German"
        ],
        [
         49,
         "zakspeed",
         "Zakspeed",
         "German"
        ],
        [
         50,
         "ram",
         "RAM",
         "British"
        ],
        [
         51,
         "alfa",
         "Alfa Romeo",
         "Italian"
        ],
        [
         52,
         "spirit",
         "Spirit",
         "British"
        ],
        [
         53,
         "toleman",
         "Toleman",
         "British"
        ],
        [
         54,
         "ats",
         "ATS",
         "Italian"
        ],
        [
         55,
         "theodore",
         "Theodore",
         "Hong Kong"
        ],
        [
         56,
         "fittipaldi",
         "Fittipaldi",
         "Brazilian"
        ],
        [
         57,
         "ensign",
         "Ensign",
         "British"
        ],
        [
         58,
         "shadow",
         "Shadow",
         "British"
        ],
        [
         59,
         "wolf",
         "Wolf",
         "Canadian"
        ],
        [
         60,
         "merzario",
         "Merzario",
         "Italian"
        ],
        [
         61,
         "kauhsen",
         "Kauhsen",
         "German"
        ],
        [
         62,
         "rebaque",
         "Rebaque",
         "Mexican"
        ],
        [
         63,
         "surtees",
         "Surtees",
         "British"
        ],
        [
         64,
         "hesketh",
         "Hesketh",
         "British"
        ],
        [
         65,
         "martini",
         "Martini",
         "French"
        ],
        [
         66,
         "brm",
         "BRM",
         "British"
        ],
        [
         67,
         "penske",
         "Penske",
         "American"
        ],
        [
         68,
         "lec",
         "LEC",
         "British"
        ],
        [
         69,
         "mcguire",
         "McGuire",
         "Australian"
        ],
        [
         70,
         "boro",
         "Boro",
         "Dutch"
        ],
        [
         71,
         "apollon",
         "Apollon",
         "Swiss"
        ],
        [
         72,
         "kojima",
         "Kojima",
         "Japanese"
        ],
        [
         73,
         "parnelli",
         "Parnelli",
         "American"
        ],
        [
         74,
         "maki",
         "Maki",
         "Japanese"
        ],
        [
         75,
         "hill",
         "Embassy Hill",
         "British"
        ],
        [
         76,
         "lyncar",
         "Lyncar",
         "British"
        ],
        [
         77,
         "trojan",
         "Trojan",
         "British"
        ],
        [
         78,
         "amon",
         "Amon",
         "New Zealand"
        ],
        [
         79,
         "token",
         "Token",
         "British"
        ],
        [
         80,
         "iso_marlboro",
         "Iso Marlboro",
         "British"
        ],
        [
         81,
         "tecno",
         "Tecno",
         "Italian"
        ],
        [
         82,
         "matra",
         "Matra",
         "French"
        ],
        [
         83,
         "politoys",
         "Politoys",
         "British"
        ],
        [
         84,
         "connew",
         "Connew",
         "British"
        ],
        [
         85,
         "bellasi",
         "Bellasi",
         "Swiss"
        ],
        [
         86,
         "tomaso",
         "De Tomaso",
         "Italian"
        ],
        [
         87,
         "cooper",
         "Cooper",
         "British"
        ],
        [
         88,
         "eagle",
         "Eagle",
         "American"
        ],
        [
         89,
         "lds",
         "LDS",
         "South African"
        ],
        [
         90,
         "protos",
         "Protos",
         "British"
        ],
        [
         91,
         "shannon",
         "Shannon",
         "British"
        ],
        [
         92,
         "scirocco",
         "Scirocco",
         "British"
        ],
        [
         93,
         "re",
         "RE",
         "Rhodesian"
        ],
        [
         94,
         "brp",
         "BRP",
         "British"
        ],
        [
         95,
         "porsche",
         "Porsche",
         "German"
        ],
        [
         96,
         "derrington",
         "Derrington",
         "British"
        ],
        [
         97,
         "gilby",
         "Gilby",
         "British"
        ],
        [
         98,
         "stebro",
         "Stebro",
         "Canadian"
        ],
        [
         99,
         "emeryson",
         "Emeryson",
         "British"
        ],
        [
         100,
         "enb",
         "ENB",
         "Belgium"
        ],
        [
         101,
         "jbw",
         "JBW",
         "British"
        ],
        [
         102,
         "ferguson",
         "Ferguson",
         "British"
        ],
        [
         103,
         "mbm",
         "MBM",
         "Swiss"
        ],
        [
         104,
         "behra-porsche",
         "Behra-Porsche",
         "Italian"
        ],
        [
         105,
         "maserati",
         "Maserati",
         "Italian"
        ],
        [
         106,
         "scarab",
         "Scarab",
         "American"
        ],
        [
         107,
         "watson",
         "Watson",
         "American"
        ],
        [
         108,
         "epperly",
         "Epperly",
         "American"
        ],
        [
         109,
         "phillips",
         "Phillips",
         "American"
        ],
        [
         110,
         "lesovsky",
         "Lesovsky",
         "American"
        ],
        [
         111,
         "trevis",
         "Trevis",
         "American"
        ],
        [
         112,
         "meskowski",
         "Meskowski",
         "American"
        ],
        [
         113,
         "kurtis_kraft",
         "Kurtis Kraft",
         "American"
        ],
        [
         114,
         "kuzma",
         "Kuzma",
         "American"
        ],
        [
         115,
         "vhristensen",
         "Christensen",
         "American"
        ],
        [
         116,
         "ewing",
         "Ewing",
         "American"
        ],
        [
         117,
         "aston_martin",
         "Aston Martin",
         "British"
        ],
        [
         118,
         "vanwall",
         "Vanwall",
         "British"
        ],
        [
         119,
         "moore",
         "Moore",
         "American"
        ],
        [
         120,
         "dunn",
         "Dunn",
         "American"
        ],
        [
         121,
         "elder",
         "Elder",
         "American"
        ],
        [
         122,
         "sutton",
         "Sutton",
         "American"
        ],
        [
         123,
         "fry",
         "Fry",
         "British"
        ],
        [
         124,
         "tec-mec",
         "Tec-Mec",
         "Italian"
        ],
        [
         125,
         "connaught",
         "Connaught",
         "British"
        ],
        [
         126,
         "alta",
         "Alta",
         "British"
        ],
        [
         127,
         "osca",
         "OSCA",
         "Italian"
        ],
        [
         128,
         "gordini",
         "Gordini",
         "French"
        ],
        [
         129,
         "stevens",
         "Stevens",
         "American"
        ],
        [
         130,
         "bugatti",
         "Bugatti",
         "French"
        ],
        [
         131,
         "mercedes",
         "Mercedes",
         "German"
        ],
        [
         132,
         "lancia",
         "Lancia",
         "Italian"
        ],
        [
         133,
         "hwm",
         "HWM",
         "British"
        ],
        [
         134,
         "schroeder",
         "Schroeder",
         "American"
        ],
        [
         135,
         "pawl",
         "Pawl",
         "American"
        ],
        [
         136,
         "pankratz",
         "Pankratz",
         "American"
        ],
        [
         137,
         "arzani-volpini",
         "Arzani-Volpini",
         "Italian"
        ],
        [
         138,
         "nichels",
         "Nichels",
         "American"
        ],
        [
         139,
         "bromme",
         "Bromme",
         "American"
        ],
        [
         140,
         "klenk",
         "Klenk",
         "German"
        ],
        [
         141,
         "simca",
         "Simca",
         "French"
        ],
        [
         142,
         "turner",
         "Turner",
         "American"
        ],
        [
         143,
         "del_roy",
         "Del Roy",
         "American"
        ],
        [
         144,
         "veritas",
         "Veritas",
         "German"
        ],
        [
         145,
         "bmw",
         "BMW",
         "German"
        ],
        [
         146,
         "emw",
         "EMW",
         "East German"
        ],
        [
         147,
         "afm",
         "AFM",
         "German"
        ],
        [
         148,
         "frazer_nash",
         "Frazer Nash",
         "British"
        ],
        [
         149,
         "sherman",
         "Sherman",
         "American"
        ],
        [
         150,
         "deidt",
         "Deidt",
         "American"
        ],
        [
         151,
         "era",
         "ERA",
         "British"
        ],
        [
         152,
         "butterworth",
         "Aston Butterworth",
         "British"
        ],
        [
         153,
         "cisitalia",
         "Cisitalia",
         "Italian"
        ],
        [
         154,
         "lago",
         "Talbot-Lago",
         "French"
        ],
        [
         155,
         "hall",
         "Hall",
         "American"
        ],
        [
         156,
         "marchese",
         "Marchese",
         "American"
        ],
        [
         157,
         "langley",
         "Langley",
         "American"
        ],
        [
         158,
         "rae",
         "Rae",
         "American"
        ],
        [
         159,
         "olson",
         "Olson",
         "American"
        ],
        [
         160,
         "wetteroth",
         "Wetteroth",
         "American"
        ],
        [
         161,
         "adams",
         "Adams",
         "American"
        ],
        [
         162,
         "snowberger",
         "Snowberger",
         "American"
        ],
        [
         163,
         "milano",
         "Milano",
         "Italian"
        ],
        [
         164,
         "hrt",
         "HRT",
         "Spanish"
        ],
        [
         167,
         "cooper-maserati",
         "Cooper-Maserati",
         "British"
        ],
        [
         166,
         "virgin",
         "Virgin",
         "British"
        ],
        [
         168,
         "cooper-osca",
         "Cooper-OSCA",
         "British"
        ],
        [
         169,
         "cooper-borgward",
         "Cooper-Borgward",
         "British"
        ],
        [
         170,
         "cooper-climax",
         "Cooper-Climax",
         "British"
        ],
        [
         171,
         "cooper-castellotti",
         "Cooper-Castellotti",
         "British"
        ],
        [
         172,
         "lotus-climax",
         "Lotus-Climax",
         "British"
        ],
        [
         173,
         "lotus-maserati",
         "Lotus-Maserati",
         "British"
        ],
        [
         174,
         "de_tomaso-osca",
         "De Tomaso-Osca",
         "Italian"
        ],
        [
         175,
         "de_tomaso-alfa_romeo",
         "De Tomaso-Alfa Romeo",
         "Italian"
        ],
        [
         176,
         "lotus-brm",
         "Lotus-BRM",
         "British"
        ],
        [
         177,
         "lotus-borgward",
         "Lotus-Borgward",
         "British"
        ],
        [
         178,
         "cooper-alfa_romeo",
         "Cooper-Alfa Romeo",
         "British"
        ],
        [
         179,
         "de_tomaso-ferrari",
         "De Tomaso-Ferrari",
         "Italian"
        ],
        [
         180,
         "lotus-ford",
         "Lotus-Ford",
         "British"
        ],
        [
         181,
         "brabham-brm",
         "Brabham-BRM",
         "British"
        ],
        [
         182,
         "brabham-ford",
         "Brabham-Ford",
         "British"
        ],
        [
         183,
         "brabham-climax",
         "Brabham-Climax",
         "British"
        ],
        [
         184,
         "lds-climax",
         "LDS-Climax",
         "South African"
        ],
        [
         185,
         "lds-alfa_romeo",
         "LDS-Alfa Romeo",
         "South African"
        ],
        [
         186,
         "cooper-ford",
         "Cooper-Ford",
         "British"
        ],
        [
         187,
         "mclaren-ford",
         "McLaren-Ford",
         "British"
        ],
        [
         188,
         "mclaren-seren",
         "McLaren-Serenissima",
         "British"
        ],
        [
         189,
         "eagle-climax",
         "Eagle-Climax",
         "American"
        ],
        [
         190,
         "eagle-weslake",
         "Eagle-Weslake",
         "American"
        ],
        [
         191,
         "brabham-repco",
         "Brabham-Repco",
         "British"
        ],
        [
         192,
         "cooper-ferrari",
         "Cooper-Ferrari",
         "British"
        ],
        [
         193,
         "cooper-ats",
         "Cooper-ATS",
         "British"
        ],
        [
         194,
         "mclaren-brm",
         "McLaren-BRM",
         "British"
        ],
        [
         195,
         "cooper-brm",
         "Cooper-BRM",
         "British"
        ],
        [
         196,
         "matra-ford",
         "Matra-Ford",
         "French"
        ],
        [
         197,
         "brm-ford",
         "BRM-Ford",
         "British"
        ],
        [
         198,
         "mclaren-alfa_romeo",
         "McLaren-Alfa Romeo",
         "British"
        ],
        [
         199,
         "march-alfa_romeo",
         "March-Alfa Romeo",
         "British"
        ],
        [
         200,
         "march-ford",
         "March-Ford",
         "British"
        ],
        [
         201,
         "lotus-pw",
         "Lotus-Pratt &amp; Whitney",
         "British"
        ],
        [
         202,
         "shadow-ford",
         "Shadow-Ford",
         "British"
        ],
        [
         203,
         "shadow-matra",
         "Shadow-Matra",
         "British"
        ],
        [
         204,
         "brabham-alfa_romeo",
         "Brabham-Alfa Romeo",
         "British"
        ],
        [
         205,
         "lotus_racing",
         "Lotus",
         "Malaysian"
        ],
        [
         206,
         "marussia",
         "Marussia",
         "Russian"
        ],
        [
         207,
         "caterham",
         "Caterham",
         "Malaysian"
        ],
        [
         208,
         "lotus_f1",
         "Lotus F1",
         "British"
        ],
        [
         209,
         "manor",
         "Manor Marussia",
         "British"
        ],
        [
         210,
         "haas",
         "Haas F1 Team",
         "American"
        ],
        [
         211,
         "racing_point",
         "Racing Point",
         "British"
        ],
        [
         213,
         "alphatauri",
         "AlphaTauri",
         "Italian"
        ],
        [
         214,
         "alpine",
         "Alpine F1 Team",
         "French"
        ]
       ],
       "datasetInfos": [],
       "dbfsResultPath": null,
       "isJsonSchema": true,
       "metadata": {},
       "overflow": false,
       "plotOptions": {
        "customPlotOptions": {},
        "displayType": "table",
        "pivotAggregation": null,
        "pivotColumns": null,
        "xColumns": null,
        "yColumns": null
       },
       "removedWidgets": [],
       "schema": [
        {
         "metadata": "{}",
         "name": "constructor_id",
         "type": "\"integer\""
        },
        {
         "metadata": "{}",
         "name": "constructor_ref",
         "type": "\"string\""
        },
        {
         "metadata": "{}",
         "name": "name",
         "type": "\"string\""
        },
        {
         "metadata": "{}",
         "name": "nationality",
         "type": "\"string\""
        }
       ],
       "type": "table"
      }
     },
     "output_type": "display_data"
    }
   ],
   "source": [
    "constructor_final_df = constructor_dropped_df.withColumnRenamed(\"constructorId\", \"constructor_id\") \\\n",
    "                                             .withColumnRenamed(\"constructorRef\", \"constructor_ref\")\n",
    "display(constructor_final_df)"
   ]
  },
  {
   "cell_type": "markdown",
   "metadata": {
    "application/vnd.databricks.v1+cell": {
     "cellMetadata": {
      "byteLimit": 2048000,
      "rowLimit": 10000
     },
     "inputWidgets": {},
     "nuid": "50f16cb1-4bee-409f-941d-fa9adeb5903d",
     "showTitle": false,
     "title": ""
    }
   },
   "source": [
    "###### e) Saving the output in the parquet format"
   ]
  },
  {
   "cell_type": "code",
   "execution_count": 0,
   "metadata": {
    "application/vnd.databricks.v1+cell": {
     "cellMetadata": {
      "byteLimit": 2048000,
      "rowLimit": 10000
     },
     "inputWidgets": {},
     "nuid": "2d01c7be-85d3-4781-9a56-d155928f98c1",
     "showTitle": false,
     "title": ""
    }
   },
   "outputs": [],
   "source": [
    "constructor_final_df.write.mode(\"overwrite\").parquet(\"abfss://processed@formula1wa.dfs.core.windows.net/constructors\")"
   ]
  },
  {
   "cell_type": "markdown",
   "metadata": {
    "application/vnd.databricks.v1+cell": {
     "cellMetadata": {
      "byteLimit": 2048000,
      "rowLimit": 10000
     },
     "inputWidgets": {},
     "nuid": "7f30edf1-bfaf-4d42-a025-813f96160b95",
     "showTitle": false,
     "title": ""
    }
   },
   "source": [
    "### Drivers"
   ]
  },
  {
   "cell_type": "markdown",
   "metadata": {
    "application/vnd.databricks.v1+cell": {
     "cellMetadata": {
      "byteLimit": 2048000,
      "rowLimit": 10000
     },
     "inputWidgets": {},
     "nuid": "3c69141f-2499-4700-b096-624e0eb7ccb6",
     "showTitle": false,
     "title": ""
    }
   },
   "source": [
    "md ###### a) Defining a new schema"
   ]
  },
  {
   "cell_type": "code",
   "execution_count": 0,
   "metadata": {
    "application/vnd.databricks.v1+cell": {
     "cellMetadata": {
      "byteLimit": 2048000,
      "rowLimit": 10000
     },
     "inputWidgets": {},
     "nuid": "952781a3-eb8d-45a1-aec7-2e7f7347ac4a",
     "showTitle": false,
     "title": ""
    }
   },
   "outputs": [],
   "source": [
    "from pyspark.sql.types import StructType, StructField, IntegerType, StringType, DateType"
   ]
  },
  {
   "cell_type": "markdown",
   "metadata": {
    "application/vnd.databricks.v1+cell": {
     "cellMetadata": {
      "byteLimit": 2048000,
      "rowLimit": 10000
     },
     "inputWidgets": {},
     "nuid": "3ae4c75b-b542-44a5-a5b6-9dbf16a8d7a0",
     "showTitle": false,
     "title": ""
    }
   },
   "source": [
    "###### b) This part of code provides classes for defining the schema of a DataFrame"
   ]
  },
  {
   "cell_type": "code",
   "execution_count": 0,
   "metadata": {
    "application/vnd.databricks.v1+cell": {
     "cellMetadata": {
      "byteLimit": 2048000,
      "rowLimit": 10000
     },
     "inputWidgets": {},
     "nuid": "6a105b1e-ddf9-472f-8d55-d7882e0d189f",
     "showTitle": false,
     "title": ""
    }
   },
   "outputs": [],
   "source": [
    "name_schema = StructType(fields=[StructField(\"forename\", StringType(), True),\n",
    "                                 StructField(\"surname\", StringType(), True)\n",
    "])"
   ]
  },
  {
   "cell_type": "code",
   "execution_count": 0,
   "metadata": {
    "application/vnd.databricks.v1+cell": {
     "cellMetadata": {
      "byteLimit": 2048000,
      "rowLimit": 10000
     },
     "inputWidgets": {},
     "nuid": "5976cabf-a551-4aa3-abb0-20af20c0ac15",
     "showTitle": false,
     "title": ""
    }
   },
   "outputs": [],
   "source": [
    "drivers_schema = StructType(fields=[StructField(\"driverId\", IntegerType(), False),\n",
    "                                    StructField(\"driverRef\", StringType(), True),\n",
    "                                    StructField(\"number\", IntegerType(), True),\n",
    "                                    StructField(\"code\", StringType(), True),\n",
    "                                    StructField(\"name\", name_schema),\n",
    "                                    StructField(\"dob\", DateType(), True),\n",
    "                                    StructField(\"nationality\", StringType(), True),\n",
    "                                    StructField(\"url\", StringType(), True)  \n",
    "])"
   ]
  },
  {
   "cell_type": "markdown",
   "metadata": {
    "application/vnd.databricks.v1+cell": {
     "cellMetadata": {
      "byteLimit": 2048000,
      "rowLimit": 10000
     },
     "inputWidgets": {},
     "nuid": "76988ef4-8377-4d1b-ac2e-5f3a22909351",
     "showTitle": false,
     "title": ""
    }
   },
   "source": [
    "###### c) Ingest JSON file into a PySpark DataFrame using the spark.read.json() method"
   ]
  },
  {
   "cell_type": "code",
   "execution_count": 0,
   "metadata": {
    "application/vnd.databricks.v1+cell": {
     "cellMetadata": {
      "byteLimit": 2048000,
      "rowLimit": 10000
     },
     "inputWidgets": {},
     "nuid": "3ee266f6-0b5c-4010-8796-675321b53a31",
     "showTitle": false,
     "title": ""
    }
   },
   "outputs": [],
   "source": [
    "drivers_df = spark.read \\\n",
    ".schema(drivers_schema) \\\n",
    ".json(\"abfss://raw@formula1wa.dfs.core.windows.net/drivers.json\")"
   ]
  },
  {
   "cell_type": "markdown",
   "metadata": {
    "application/vnd.databricks.v1+cell": {
     "cellMetadata": {
      "byteLimit": 2048000,
      "rowLimit": 10000
     },
     "inputWidgets": {},
     "nuid": "15943d98-29cb-48b1-8cb9-49c87c961efb",
     "showTitle": false,
     "title": ""
    }
   },
   "source": [
    "###### d) Renaming the columns"
   ]
  },
  {
   "cell_type": "code",
   "execution_count": 0,
   "metadata": {
    "application/vnd.databricks.v1+cell": {
     "cellMetadata": {
      "byteLimit": 2048000,
      "rowLimit": 10000
     },
     "inputWidgets": {},
     "nuid": "12f4e57b-bb86-442f-9f4d-c7994acc90d5",
     "showTitle": false,
     "title": ""
    }
   },
   "outputs": [],
   "source": [
    "from pyspark.sql.functions import col, concat, lit"
   ]
  },
  {
   "cell_type": "code",
   "execution_count": 0,
   "metadata": {
    "application/vnd.databricks.v1+cell": {
     "cellMetadata": {
      "byteLimit": 2048000,
      "rowLimit": 10000
     },
     "inputWidgets": {},
     "nuid": "22abbfd0-f7ee-40f9-9dc2-ed5e5eadbb02",
     "showTitle": false,
     "title": ""
    }
   },
   "outputs": [],
   "source": [
    "drivers_with_columns_df = drivers_df.withColumnRenamed(\"driverId\", \"driver_id\") \\\n",
    "                                    .withColumnRenamed(\"driverRef\", \"driver_ref\") \\\n",
    "                                    .withColumn(\"name\", concat(col(\"name.forename\"), lit(\" \"), col(\"name.surname\")))"
   ]
  },
  {
   "cell_type": "markdown",
   "metadata": {
    "application/vnd.databricks.v1+cell": {
     "cellMetadata": {
      "byteLimit": 2048000,
      "rowLimit": 10000
     },
     "inputWidgets": {},
     "nuid": "a5c54cb3-494d-4c33-99e5-b1c7d47096ec",
     "showTitle": false,
     "title": ""
    }
   },
   "source": [
    "###### e) Selecting specific columns from the drivers_with_columns_df using col() function"
   ]
  },
  {
   "cell_type": "code",
   "execution_count": 0,
   "metadata": {
    "application/vnd.databricks.v1+cell": {
     "cellMetadata": {
      "byteLimit": 2048000,
      "rowLimit": 10000
     },
     "inputWidgets": {},
     "nuid": "8b46b705-d424-448e-a09e-7898413da41f",
     "showTitle": false,
     "title": ""
    }
   },
   "outputs": [],
   "source": [
    "drivers_final_df = drivers_with_columns_df.drop(col(\"url\"))\n",
    "display(drivers_final_df)"
   ]
  },
  {
   "cell_type": "markdown",
   "metadata": {
    "application/vnd.databricks.v1+cell": {
     "cellMetadata": {
      "byteLimit": 2048000,
      "rowLimit": 10000
     },
     "inputWidgets": {},
     "nuid": "d42233f3-133b-4270-b154-e6b1e39ef71f",
     "showTitle": false,
     "title": ""
    }
   },
   "source": [
    "###### e) Saving the output in the parquet format"
   ]
  },
  {
   "cell_type": "code",
   "execution_count": 0,
   "metadata": {
    "application/vnd.databricks.v1+cell": {
     "cellMetadata": {
      "byteLimit": 2048000,
      "rowLimit": 10000
     },
     "inputWidgets": {},
     "nuid": "5cdaeccc-ca8f-4d01-b253-4b6026c26e65",
     "showTitle": false,
     "title": ""
    }
   },
   "outputs": [],
   "source": [
    "drivers_final_df.write.mode(\"overwrite\").parquet(\"abfss://processed@formula1wa.dfs.core.windows.net/drivers\")"
   ]
  },
  {
   "cell_type": "markdown",
   "metadata": {
    "application/vnd.databricks.v1+cell": {
     "cellMetadata": {
      "byteLimit": 2048000,
      "rowLimit": 10000
     },
     "inputWidgets": {},
     "nuid": "79eaea39-b55a-4a68-86fc-87e6a2144a77",
     "showTitle": false,
     "title": ""
    }
   },
   "source": [
    "### Results"
   ]
  },
  {
   "cell_type": "markdown",
   "metadata": {
    "application/vnd.databricks.v1+cell": {
     "cellMetadata": {
      "byteLimit": 2048000,
      "rowLimit": 10000
     },
     "inputWidgets": {},
     "nuid": "cce0879d-1d26-48a4-84a7-d1e136479772",
     "showTitle": false,
     "title": ""
    }
   },
   "source": [
    "###### a) This part of code provides classes for defining the schema of a DataFrame"
   ]
  },
  {
   "cell_type": "code",
   "execution_count": 0,
   "metadata": {
    "application/vnd.databricks.v1+cell": {
     "cellMetadata": {
      "byteLimit": 2048000,
      "rowLimit": 10000
     },
     "inputWidgets": {},
     "nuid": "49a20a43-0fe2-497e-8eb4-7c4aa54eb097",
     "showTitle": false,
     "title": ""
    }
   },
   "outputs": [],
   "source": [
    "from pyspark.sql.types import StructType, StructField, IntegerType, StringType, FloatType"
   ]
  },
  {
   "cell_type": "markdown",
   "metadata": {
    "application/vnd.databricks.v1+cell": {
     "cellMetadata": {
      "byteLimit": 2048000,
      "rowLimit": 10000
     },
     "inputWidgets": {},
     "nuid": "2d2d3240-ab6c-4e0a-8d18-8588f365de10",
     "showTitle": false,
     "title": ""
    }
   },
   "source": [
    "###### b) Defining a new schema"
   ]
  },
  {
   "cell_type": "code",
   "execution_count": 0,
   "metadata": {
    "application/vnd.databricks.v1+cell": {
     "cellMetadata": {
      "byteLimit": 2048000,
      "rowLimit": 10000
     },
     "inputWidgets": {},
     "nuid": "a4b13d26-ee75-4813-be6f-d42ca328a6be",
     "showTitle": false,
     "title": ""
    }
   },
   "outputs": [],
   "source": [
    "results_schema = StructType(fields=[StructField(\"resultId\", IntegerType(), False),\n",
    "                                    StructField(\"raceId\", IntegerType(), True),\n",
    "                                    StructField(\"driverId\", IntegerType(), True),\n",
    "                                    StructField(\"constructorId\", IntegerType(), True),\n",
    "                                    StructField(\"number\", IntegerType(), True),\n",
    "                                    StructField(\"grid\", IntegerType(), True),\n",
    "                                    StructField(\"position\", IntegerType(), True),\n",
    "                                    StructField(\"positionText\", StringType(), True),\n",
    "                                    StructField(\"positionOrder\", IntegerType(), True),\n",
    "                                    StructField(\"points\", FloatType(), True),\n",
    "                                    StructField(\"laps\", IntegerType(), True),\n",
    "                                    StructField(\"time\", StringType(), True),\n",
    "                                    StructField(\"milliseconds\", IntegerType(), True),\n",
    "                                    StructField(\"fastestLap\", IntegerType(), True),\n",
    "                                    StructField(\"rank\", IntegerType(), True),\n",
    "                                    StructField(\"fastestLapTime\", StringType(), True),\n",
    "                                    StructField(\"fastestLapSpeed\", FloatType(), True),\n",
    "                                    StructField(\"statusId\", StringType(), True)])"
   ]
  },
  {
   "cell_type": "markdown",
   "metadata": {
    "application/vnd.databricks.v1+cell": {
     "cellMetadata": {
      "byteLimit": 2048000,
      "rowLimit": 10000
     },
     "inputWidgets": {},
     "nuid": "7ef198ca-6053-45cb-9e16-dddbd3a2e7d3",
     "showTitle": false,
     "title": ""
    }
   },
   "source": [
    "###### c) Ingest JSON file into a PySpark DataFrame using the spark.read.json() method"
   ]
  },
  {
   "cell_type": "code",
   "execution_count": 0,
   "metadata": {
    "application/vnd.databricks.v1+cell": {
     "cellMetadata": {
      "byteLimit": 2048000,
      "rowLimit": 10000
     },
     "inputWidgets": {},
     "nuid": "253c3c29-17d4-4a11-84c3-cd496e7ba4e1",
     "showTitle": false,
     "title": ""
    }
   },
   "outputs": [],
   "source": [
    "results_df = spark.read \\\n",
    ".schema(results_schema) \\\n",
    ".json(\"abfss://raw@formula1wa.dfs.core.windows.net/results.json\")"
   ]
  },
  {
   "cell_type": "markdown",
   "metadata": {
    "application/vnd.databricks.v1+cell": {
     "cellMetadata": {
      "byteLimit": 2048000,
      "rowLimit": 10000
     },
     "inputWidgets": {},
     "nuid": "f7a654a5-48a5-4207-b625-898e8d27593e",
     "showTitle": false,
     "title": ""
    }
   },
   "source": [
    "###### d) Renaming the columns"
   ]
  },
  {
   "cell_type": "code",
   "execution_count": 0,
   "metadata": {
    "application/vnd.databricks.v1+cell": {
     "cellMetadata": {
      "byteLimit": 2048000,
      "rowLimit": 10000
     },
     "inputWidgets": {},
     "nuid": "088d0cef-be2e-4878-94ca-4de323022347",
     "showTitle": false,
     "title": ""
    }
   },
   "outputs": [],
   "source": [
    "results_with_columns_df = results_df.withColumnRenamed(\"resultId\", \"result_id\") \\\n",
    "                                    .withColumnRenamed(\"raceId\", \"race_id\") \\\n",
    "                                    .withColumnRenamed(\"driverId\", \"driver_id\") \\\n",
    "                                    .withColumnRenamed(\"constructorId\", \"constructor_id\") \\\n",
    "                                    .withColumnRenamed(\"positionText\", \"position_text\") \\\n",
    "                                    .withColumnRenamed(\"positionOrder\", \"position_order\") \\\n",
    "                                    .withColumnRenamed(\"fastestLap\", \"fastest_lap\") \\\n",
    "                                    .withColumnRenamed(\"fastestLapTime\", \"fastest_lap_time\") \\\n",
    "                                    .withColumnRenamed(\"fastestLapSpeed\", \"fastest_lap_speed\")"
   ]
  },
  {
   "cell_type": "markdown",
   "metadata": {
    "application/vnd.databricks.v1+cell": {
     "cellMetadata": {
      "byteLimit": 2048000,
      "rowLimit": 10000
     },
     "inputWidgets": {},
     "nuid": "796d71d9-6e16-4094-8516-892b6860891b",
     "showTitle": false,
     "title": ""
    }
   },
   "source": [
    "###### e) Selecting specific columns from the results_df using col() function"
   ]
  },
  {
   "cell_type": "code",
   "execution_count": 0,
   "metadata": {
    "application/vnd.databricks.v1+cell": {
     "cellMetadata": {
      "byteLimit": 2048000,
      "rowLimit": 10000
     },
     "inputWidgets": {},
     "nuid": "91b1c5f8-4c02-4f0e-ba19-83df8defcf76",
     "showTitle": false,
     "title": ""
    }
   },
   "outputs": [],
   "source": [
    "from pyspark.sql.functions import col"
   ]
  },
  {
   "cell_type": "code",
   "execution_count": 0,
   "metadata": {
    "application/vnd.databricks.v1+cell": {
     "cellMetadata": {
      "byteLimit": 2048000,
      "rowLimit": 10000
     },
     "inputWidgets": {},
     "nuid": "6f358935-8abe-41b1-b161-7f55e869c8c9",
     "showTitle": false,
     "title": ""
    }
   },
   "outputs": [],
   "source": [
    "results_final_df = results_with_columns_df.drop(col(\"statusId\"))\n",
    "display(results_final_df)"
   ]
  },
  {
   "cell_type": "markdown",
   "metadata": {
    "application/vnd.databricks.v1+cell": {
     "cellMetadata": {
      "byteLimit": 2048000,
      "rowLimit": 10000
     },
     "inputWidgets": {},
     "nuid": "656ad65b-fcf2-4218-b604-b8aeae85eaf2",
     "showTitle": false,
     "title": ""
    }
   },
   "source": [
    "###### e) Saving the output in the parquet format and divide it by race_id"
   ]
  },
  {
   "cell_type": "code",
   "execution_count": 0,
   "metadata": {
    "application/vnd.databricks.v1+cell": {
     "cellMetadata": {
      "byteLimit": 2048000,
      "rowLimit": 10000
     },
     "inputWidgets": {},
     "nuid": "637ca860-a7ac-4c03-b963-9b0afa1deabf",
     "showTitle": false,
     "title": ""
    }
   },
   "outputs": [],
   "source": [
    "results_final_df.write.mode(\"overwrite\").parquet(\"abfss://processed@formula1wa.dfs.core.windows.net/results\")"
   ]
  },
  {
   "cell_type": "markdown",
   "metadata": {
    "application/vnd.databricks.v1+cell": {
     "cellMetadata": {
      "byteLimit": 2048000,
      "rowLimit": 10000
     },
     "inputWidgets": {},
     "nuid": "de6ac775-9c26-4bad-8a07-f7c0d615e499",
     "showTitle": false,
     "title": ""
    }
   },
   "source": [
    "### Pit-stop"
   ]
  },
  {
   "cell_type": "markdown",
   "metadata": {
    "application/vnd.databricks.v1+cell": {
     "cellMetadata": {
      "byteLimit": 2048000,
      "rowLimit": 10000
     },
     "inputWidgets": {},
     "nuid": "fda2bdf2-0585-45b0-9fea-859651cc2327",
     "showTitle": false,
     "title": ""
    }
   },
   "source": [
    "###### a) This part of code provides classes for defining the schema of a DataFrame"
   ]
  },
  {
   "cell_type": "code",
   "execution_count": 0,
   "metadata": {
    "application/vnd.databricks.v1+cell": {
     "cellMetadata": {
      "byteLimit": 2048000,
      "rowLimit": 10000
     },
     "inputWidgets": {},
     "nuid": "75aee9ec-ad98-4eca-b906-5626d9d23d41",
     "showTitle": false,
     "title": ""
    }
   },
   "outputs": [],
   "source": [
    "from pyspark.sql.types import StructType, StructField, IntegerType, StringType"
   ]
  },
  {
   "cell_type": "markdown",
   "metadata": {
    "application/vnd.databricks.v1+cell": {
     "cellMetadata": {
      "byteLimit": 2048000,
      "rowLimit": 10000
     },
     "inputWidgets": {},
     "nuid": "4e70732c-067d-4170-8998-055dc2c087ca",
     "showTitle": false,
     "title": ""
    }
   },
   "source": [
    "###### b) Defining a new schema"
   ]
  },
  {
   "cell_type": "code",
   "execution_count": 0,
   "metadata": {
    "application/vnd.databricks.v1+cell": {
     "cellMetadata": {
      "byteLimit": 2048000,
      "rowLimit": 10000
     },
     "inputWidgets": {},
     "nuid": "a37a14b3-5ec3-4584-8cb5-7bea0c35bcbc",
     "showTitle": false,
     "title": ""
    }
   },
   "outputs": [],
   "source": [
    "pit_stops_schema = StructType(fields=[StructField(\"raceId\", IntegerType(), False),\n",
    "                                      StructField(\"driverId\", IntegerType(), True),\n",
    "                                      StructField(\"stop\", StringType(), True),\n",
    "                                      StructField(\"lap\", IntegerType(), True),\n",
    "                                      StructField(\"time\", StringType(), True),\n",
    "                                      StructField(\"duration\", StringType(), True),\n",
    "                                      StructField(\"milliseconds\", IntegerType(), True)\n",
    "                                     ])"
   ]
  },
  {
   "cell_type": "markdown",
   "metadata": {
    "application/vnd.databricks.v1+cell": {
     "cellMetadata": {
      "byteLimit": 2048000,
      "rowLimit": 10000
     },
     "inputWidgets": {},
     "nuid": "27f3a604-06ab-4b7c-8715-59b120f01000",
     "showTitle": false,
     "title": ""
    }
   },
   "source": [
    "###### c) Ingest JSON file into a PySpark DataFrame using the spark.read.json() method"
   ]
  },
  {
   "cell_type": "code",
   "execution_count": 0,
   "metadata": {
    "application/vnd.databricks.v1+cell": {
     "cellMetadata": {
      "byteLimit": 2048000,
      "rowLimit": 10000
     },
     "inputWidgets": {},
     "nuid": "a3c67520-e110-4ead-9258-c666c154a8c4",
     "showTitle": false,
     "title": ""
    }
   },
   "outputs": [],
   "source": [
    "pit_stops_df = spark.read \\\n",
    ".schema(pit_stops_schema) \\\n",
    ".option(\"multiLine\", True) \\\n",
    ".json(\"abfss://raw@formula1wa.dfs.core.windows.net/pit_stops.json\")"
   ]
  },
  {
   "cell_type": "markdown",
   "metadata": {
    "application/vnd.databricks.v1+cell": {
     "cellMetadata": {
      "byteLimit": 2048000,
      "rowLimit": 10000
     },
     "inputWidgets": {},
     "nuid": "a67b3243-16e5-4d00-82c2-29f49bceddca",
     "showTitle": false,
     "title": ""
    }
   },
   "source": [
    "###### d) Selecting specific columns from the results_df using col() function"
   ]
  },
  {
   "cell_type": "code",
   "execution_count": 0,
   "metadata": {
    "application/vnd.databricks.v1+cell": {
     "cellMetadata": {
      "byteLimit": 2048000,
      "rowLimit": 10000
     },
     "inputWidgets": {},
     "nuid": "0313fc81-5cd6-454c-a84d-7834aa204eff",
     "showTitle": false,
     "title": ""
    }
   },
   "outputs": [],
   "source": [
    "pit_stops_final_df = pit_stops_df.withColumnRenamed(\"driverId\", \"driver_id\") \\\n",
    ".withColumnRenamed(\"raceId\", \"race_id\")\n",
    "display(pit_stops_final_df)"
   ]
  },
  {
   "cell_type": "markdown",
   "metadata": {
    "application/vnd.databricks.v1+cell": {
     "cellMetadata": {
      "byteLimit": 2048000,
      "rowLimit": 10000
     },
     "inputWidgets": {},
     "nuid": "dbe2af26-7dbf-4bd0-84aa-0e89ed14e6ea",
     "showTitle": false,
     "title": ""
    }
   },
   "source": [
    "###### e) Saving the output in the parquet format"
   ]
  },
  {
   "cell_type": "code",
   "execution_count": 0,
   "metadata": {
    "application/vnd.databricks.v1+cell": {
     "cellMetadata": {
      "byteLimit": 2048000,
      "rowLimit": 10000
     },
     "inputWidgets": {},
     "nuid": "2a2863ea-7afe-49dc-8ad0-d7147df3a8a4",
     "showTitle": false,
     "title": ""
    }
   },
   "outputs": [],
   "source": [
    "pit_stops_final_df.write.mode(\"overwrite\").parquet(\"abfss://processed@formula1wa.dfs.core.windows.net/pit_stops\")"
   ]
  },
  {
   "cell_type": "markdown",
   "metadata": {
    "application/vnd.databricks.v1+cell": {
     "cellMetadata": {},
     "inputWidgets": {},
     "nuid": "2a2dee1a-dae4-443c-95ec-8597eba2e33d",
     "showTitle": false,
     "title": ""
    }
   },
   "source": [
    "## Joining the data\n",
    "Joining the data in order to display the driver standings in particular years with detailed information about the race."
   ]
  },
  {
   "cell_type": "markdown",
   "metadata": {
    "application/vnd.databricks.v1+cell": {
     "cellMetadata": {
      "byteLimit": 2048000,
      "rowLimit": 10000
     },
     "inputWidgets": {},
     "nuid": "e17832a3-cc54-48e9-9c9f-eb094e2af5bc",
     "showTitle": false,
     "title": ""
    }
   },
   "source": [
    "##### Join circuits to races"
   ]
  },
  {
   "cell_type": "code",
   "execution_count": 0,
   "metadata": {
    "application/vnd.databricks.v1+cell": {
     "cellMetadata": {
      "byteLimit": 2048000,
      "rowLimit": 10000
     },
     "inputWidgets": {},
     "nuid": "ed0ba87c-1b75-43d0-a2c8-32e8c60f1693",
     "showTitle": false,
     "title": ""
    }
   },
   "outputs": [],
   "source": [
    "race_circuits_df = races_df.join(circuits_df, races_df.circuit_id == circuits_df.circuit_id, \"inner\") \\\n",
    ".select(races_df.race_id, races_df.race_year, races_df.race_name, circuits_df.circuit_location)"
   ]
  },
  {
   "cell_type": "markdown",
   "metadata": {
    "application/vnd.databricks.v1+cell": {
     "cellMetadata": {
      "byteLimit": 2048000,
      "rowLimit": 10000
     },
     "inputWidgets": {},
     "nuid": "803c5daf-0ebd-4f40-9b1b-82605ba8278b",
     "showTitle": false,
     "title": ""
    }
   },
   "source": [
    "##### Join results to all other dataframes"
   ]
  },
  {
   "cell_type": "code",
   "execution_count": 0,
   "metadata": {
    "application/vnd.databricks.v1+cell": {
     "cellMetadata": {
      "byteLimit": 2048000,
      "rowLimit": 10000
     },
     "inputWidgets": {},
     "nuid": "7bb46293-dc6e-4890-8c0c-a50d9508ae4d",
     "showTitle": false,
     "title": ""
    }
   },
   "outputs": [],
   "source": [
    "race_results_df = results_df.join(race_circuits_df, results_df.race_id == race_circuits_df.race_id) \\\n",
    "                            .join(drivers_df, results_df.driver_id == drivers_df.driver_id) \\\n",
    "                            .join(constructors_df, results_df.constructor_id == constructors_df.constructor_id)"
   ]
  },
  {
   "cell_type": "code",
   "execution_count": 0,
   "metadata": {
    "application/vnd.databricks.v1+cell": {
     "cellMetadata": {
      "byteLimit": 2048000,
      "rowLimit": 10000
     },
     "inputWidgets": {},
     "nuid": "c30fe471-ffa6-4e4b-bec6-9671a6a7a1f9",
     "showTitle": false,
     "title": ""
    }
   },
   "outputs": [],
   "source": [
    "final_df = race_results_df.select(\"race_year\", \"race_name\", \"circuit_location\", \"driver_name\", \"driver_number\", \"driver_nationality\",\n",
    "                                 \"team\", \"grid\", \"fastest_lap\", \"race_time\", \"points\", \"position\")"
   ]
  },
  {
   "cell_type": "code",
   "execution_count": 0,
   "metadata": {
    "application/vnd.databricks.v1+cell": {
     "cellMetadata": {
      "byteLimit": 2048000,
      "rowLimit": 10000
     },
     "inputWidgets": {},
     "nuid": "4fddd691-8816-4e01-ad93-318bf48831c8",
     "showTitle": false,
     "title": ""
    }
   },
   "outputs": [
    {
     "output_type": "display_data",
     "data": {
      "text/html": [
       "<style scoped>\n",
       "  .table-result-container {\n",
       "    max-height: 300px;\n",
       "    overflow: auto;\n",
       "  }\n",
       "  table, th, td {\n",
       "    border: 1px solid black;\n",
       "    border-collapse: collapse;\n",
       "  }\n",
       "  th, td {\n",
       "    padding: 5px;\n",
       "  }\n",
       "  th {\n",
       "    text-align: left;\n",
       "  }\n",
       "</style><div class='table-result-container'><table class='table-result'><thead style='background-color: white'><tr><th>race_year</th><th>race_name</th><th>circuit_location</th><th>driver_name</th><th>driver_number</th><th>driver_nationality</th><th>team</th><th>grid</th><th>fastest_lap</th><th>race_time</th><th>points</th><th>position</th></tr></thead><tbody><tr><td>2020</td><td>Abu Dhabi Grand Prix</td><td>Abu Dhabi</td><td>Max Verstappen</td><td>33</td><td>Dutch</td><td>Red Bull</td><td>1</td><td>14</td><td>1:36:28.645</td><td>25.0</td><td>1</td></tr><tr><td>2020</td><td>Abu Dhabi Grand Prix</td><td>Abu Dhabi</td><td>Valtteri Bottas</td><td>77</td><td>Finnish</td><td>Mercedes</td><td>2</td><td>40</td><td>+15.976</td><td>18.0</td><td>2</td></tr><tr><td>2020</td><td>Abu Dhabi Grand Prix</td><td>Abu Dhabi</td><td>Lewis Hamilton</td><td>44</td><td>British</td><td>Mercedes</td><td>3</td><td>37</td><td>+18.415</td><td>15.0</td><td>3</td></tr><tr><td>2020</td><td>Abu Dhabi Grand Prix</td><td>Abu Dhabi</td><td>Alexander Albon</td><td>23</td><td>Thai</td><td>Red Bull</td><td>5</td><td>42</td><td>+19.987</td><td>12.0</td><td>4</td></tr><tr><td>2020</td><td>Abu Dhabi Grand Prix</td><td>Abu Dhabi</td><td>Lando Norris</td><td>4</td><td>British</td><td>McLaren</td><td>4</td><td>53</td><td>+1:00.729</td><td>10.0</td><td>5</td></tr><tr><td>2020</td><td>Abu Dhabi Grand Prix</td><td>Abu Dhabi</td><td>Carlos Sainz</td><td>55</td><td>Spanish</td><td>McLaren</td><td>6</td><td>48</td><td>+1:05.662</td><td>8.0</td><td>6</td></tr><tr><td>2020</td><td>Abu Dhabi Grand Prix</td><td>Abu Dhabi</td><td>Daniel Ricciardo</td><td>3</td><td>Australian</td><td>Renault</td><td>11</td><td>55</td><td>+1:13.748</td><td>7.0</td><td>7</td></tr><tr><td>2020</td><td>Abu Dhabi Grand Prix</td><td>Abu Dhabi</td><td>Pierre Gasly</td><td>10</td><td>French</td><td>AlphaTauri</td><td>9</td><td>53</td><td>+1:29.718</td><td>4.0</td><td>8</td></tr><tr><td>2020</td><td>Abu Dhabi Grand Prix</td><td>Abu Dhabi</td><td>Esteban Ocon</td><td>31</td><td>French</td><td>Renault</td><td>10</td><td>47</td><td>+1:41.069</td><td>2.0</td><td>9</td></tr><tr><td>2020</td><td>Abu Dhabi Grand Prix</td><td>Abu Dhabi</td><td>Lance Stroll</td><td>18</td><td>Canadian</td><td>Racing Point</td><td>8</td><td>41</td><td>+1:42.738</td><td>1.0</td><td>10</td></tr><tr><td>2020</td><td>Abu Dhabi Grand Prix</td><td>Abu Dhabi</td><td>Sergio Pérez</td><td>11</td><td>Mexican</td><td>Racing Point</td><td>19</td><td>6</td><td>\\N</td><td>0.0</td><td>null</td></tr><tr><td>2020</td><td>Abu Dhabi Grand Prix</td><td>Abu Dhabi</td><td>Pietro Fittipaldi</td><td>51</td><td>Brazilian</td><td>Haas F1 Team</td><td>17</td><td>50</td><td>\\N</td><td>0.0</td><td>19</td></tr><tr><td>2020</td><td>Abu Dhabi Grand Prix</td><td>Abu Dhabi</td><td>Kevin Magnussen</td><td>20</td><td>Danish</td><td>Haas F1 Team</td><td>20</td><td>50</td><td>\\N</td><td>0.0</td><td>18</td></tr><tr><td>2020</td><td>Abu Dhabi Grand Prix</td><td>Abu Dhabi</td><td>Nicholas Latifi</td><td>6</td><td>Canadian</td><td>Williams</td><td>18</td><td>49</td><td>\\N</td><td>0.0</td><td>17</td></tr><tr><td>2020</td><td>Abu Dhabi Grand Prix</td><td>Abu Dhabi</td><td>Antonio Giovinazzi</td><td>99</td><td>Italian</td><td>Alfa Romeo</td><td>14</td><td>29</td><td>\\N</td><td>0.0</td><td>16</td></tr><tr><td>2020</td><td>Abu Dhabi Grand Prix</td><td>Abu Dhabi</td><td>George Russell</td><td>63</td><td>British</td><td>Williams</td><td>16</td><td>54</td><td>\\N</td><td>0.0</td><td>15</td></tr><tr><td>2020</td><td>Abu Dhabi Grand Prix</td><td>Abu Dhabi</td><td>Sebastian Vettel</td><td>5</td><td>German</td><td>Ferrari</td><td>13</td><td>37</td><td>\\N</td><td>0.0</td><td>14</td></tr><tr><td>2020</td><td>Abu Dhabi Grand Prix</td><td>Abu Dhabi</td><td>Charles Leclerc</td><td>16</td><td>Monegasque</td><td>Ferrari</td><td>12</td><td>24</td><td>\\N</td><td>0.0</td><td>13</td></tr><tr><td>2020</td><td>Abu Dhabi Grand Prix</td><td>Abu Dhabi</td><td>Kimi Räikkönen</td><td>7</td><td>Finnish</td><td>Alfa Romeo</td><td>15</td><td>53</td><td>\\N</td><td>0.0</td><td>12</td></tr><tr><td>2020</td><td>Abu Dhabi Grand Prix</td><td>Abu Dhabi</td><td>Daniil Kvyat</td><td>26</td><td>Russian</td><td>AlphaTauri</td><td>7</td><td>47</td><td>\\N</td><td>0.0</td><td>11</td></tr></tbody></table></div>"
      ]
     },
     "metadata": {
      "application/vnd.databricks.v1+output": {
       "addedWidgets": {},
       "aggData": [],
       "aggError": "",
       "aggOverflow": false,
       "aggSchema": [],
       "aggSeriesLimitReached": false,
       "aggType": "",
       "arguments": {},
       "columnCustomDisplayInfos": {},
       "data": [
        [
         2020,
         "Abu Dhabi Grand Prix",
         "Abu Dhabi",
         "Max Verstappen",
         33,
         "Dutch",
         "Red Bull",
         1,
         14,
         "1:36:28.645",
         25.0,
         1
        ],
        [
         2020,
         "Abu Dhabi Grand Prix",
         "Abu Dhabi",
         "Valtteri Bottas",
         77,
         "Finnish",
         "Mercedes",
         2,
         40,
         "+15.976",
         18.0,
         2
        ],
        [
         2020,
         "Abu Dhabi Grand Prix",
         "Abu Dhabi",
         "Lewis Hamilton",
         44,
         "British",
         "Mercedes",
         3,
         37,
         "+18.415",
         15.0,
         3
        ],
        [
         2020,
         "Abu Dhabi Grand Prix",
         "Abu Dhabi",
         "Alexander Albon",
         23,
         "Thai",
         "Red Bull",
         5,
         42,
         "+19.987",
         12.0,
         4
        ],
        [
         2020,
         "Abu Dhabi Grand Prix",
         "Abu Dhabi",
         "Lando Norris",
         4,
         "British",
         "McLaren",
         4,
         53,
         "+1:00.729",
         10.0,
         5
        ],
        [
         2020,
         "Abu Dhabi Grand Prix",
         "Abu Dhabi",
         "Carlos Sainz",
         55,
         "Spanish",
         "McLaren",
         6,
         48,
         "+1:05.662",
         8.0,
         6
        ],
        [
         2020,
         "Abu Dhabi Grand Prix",
         "Abu Dhabi",
         "Daniel Ricciardo",
         3,
         "Australian",
         "Renault",
         11,
         55,
         "+1:13.748",
         7.0,
         7
        ],
        [
         2020,
         "Abu Dhabi Grand Prix",
         "Abu Dhabi",
         "Pierre Gasly",
         10,
         "French",
         "AlphaTauri",
         9,
         53,
         "+1:29.718",
         4.0,
         8
        ],
        [
         2020,
         "Abu Dhabi Grand Prix",
         "Abu Dhabi",
         "Esteban Ocon",
         31,
         "French",
         "Renault",
         10,
         47,
         "+1:41.069",
         2.0,
         9
        ],
        [
         2020,
         "Abu Dhabi Grand Prix",
         "Abu Dhabi",
         "Lance Stroll",
         18,
         "Canadian",
         "Racing Point",
         8,
         41,
         "+1:42.738",
         1.0,
         10
        ],
        [
         2020,
         "Abu Dhabi Grand Prix",
         "Abu Dhabi",
         "Sergio Pérez",
         11,
         "Mexican",
         "Racing Point",
         19,
         6,
         "\\N",
         0.0,
         null
        ],
        [
         2020,
         "Abu Dhabi Grand Prix",
         "Abu Dhabi",
         "Pietro Fittipaldi",
         51,
         "Brazilian",
         "Haas F1 Team",
         17,
         50,
         "\\N",
         0.0,
         19
        ],
        [
         2020,
         "Abu Dhabi Grand Prix",
         "Abu Dhabi",
         "Kevin Magnussen",
         20,
         "Danish",
         "Haas F1 Team",
         20,
         50,
         "\\N",
         0.0,
         18
        ],
        [
         2020,
         "Abu Dhabi Grand Prix",
         "Abu Dhabi",
         "Nicholas Latifi",
         6,
         "Canadian",
         "Williams",
         18,
         49,
         "\\N",
         0.0,
         17
        ],
        [
         2020,
         "Abu Dhabi Grand Prix",
         "Abu Dhabi",
         "Antonio Giovinazzi",
         99,
         "Italian",
         "Alfa Romeo",
         14,
         29,
         "\\N",
         0.0,
         16
        ],
        [
         2020,
         "Abu Dhabi Grand Prix",
         "Abu Dhabi",
         "George Russell",
         63,
         "British",
         "Williams",
         16,
         54,
         "\\N",
         0.0,
         15
        ],
        [
         2020,
         "Abu Dhabi Grand Prix",
         "Abu Dhabi",
         "Sebastian Vettel",
         5,
         "German",
         "Ferrari",
         13,
         37,
         "\\N",
         0.0,
         14
        ],
        [
         2020,
         "Abu Dhabi Grand Prix",
         "Abu Dhabi",
         "Charles Leclerc",
         16,
         "Monegasque",
         "Ferrari",
         12,
         24,
         "\\N",
         0.0,
         13
        ],
        [
         2020,
         "Abu Dhabi Grand Prix",
         "Abu Dhabi",
         "Kimi Räikkönen",
         7,
         "Finnish",
         "Alfa Romeo",
         15,
         53,
         "\\N",
         0.0,
         12
        ],
        [
         2020,
         "Abu Dhabi Grand Prix",
         "Abu Dhabi",
         "Daniil Kvyat",
         26,
         "Russian",
         "AlphaTauri",
         7,
         47,
         "\\N",
         0.0,
         11
        ]
       ],
       "datasetInfos": [],
       "dbfsResultPath": null,
       "isJsonSchema": true,
       "metadata": {},
       "overflow": false,
       "plotOptions": {
        "customPlotOptions": {},
        "displayType": "table",
        "pivotAggregation": null,
        "pivotColumns": null,
        "xColumns": null,
        "yColumns": null
       },
       "removedWidgets": [],
       "schema": [
        {
         "metadata": "{}",
         "name": "race_year",
         "type": "\"integer\""
        },
        {
         "metadata": "{}",
         "name": "race_name",
         "type": "\"string\""
        },
        {
         "metadata": "{}",
         "name": "circuit_location",
         "type": "\"string\""
        },
        {
         "metadata": "{}",
         "name": "driver_name",
         "type": "\"string\""
        },
        {
         "metadata": "{}",
         "name": "driver_number",
         "type": "\"integer\""
        },
        {
         "metadata": "{}",
         "name": "driver_nationality",
         "type": "\"string\""
        },
        {
         "metadata": "{}",
         "name": "team",
         "type": "\"string\""
        },
        {
         "metadata": "{}",
         "name": "grid",
         "type": "\"integer\""
        },
        {
         "metadata": "{}",
         "name": "fastest_lap",
         "type": "\"integer\""
        },
        {
         "metadata": "{}",
         "name": "race_time",
         "type": "\"string\""
        },
        {
         "metadata": "{}",
         "name": "points",
         "type": "\"float\""
        },
        {
         "metadata": "{}",
         "name": "position",
         "type": "\"integer\""
        }
       ],
       "type": "table"
      }
     },
     "output_type": "display_data"
    }
   ],
   "source": [
    "display(final_df.filter(\"race_year == 2020 and race_name == 'Abu Dhabi Grand Prix'\").orderBy(final_df.points.desc()))"
   ]
  },
  {
   "cell_type": "code",
   "execution_count": 0,
   "metadata": {
    "application/vnd.databricks.v1+cell": {
     "cellMetadata": {
      "byteLimit": 2048000,
      "rowLimit": 10000
     },
     "inputWidgets": {},
     "nuid": "6b17bd3e-ce8b-4d95-bae3-a46d8a5f491a",
     "showTitle": false,
     "title": ""
    }
   },
   "outputs": [],
   "source": [
    "final_df.write.mode(\"overwrite\").parquet(\"abfss://presentation@formula1wa.dfs.core.windows.net//race_results\")"
   ]
  },
  {
   "cell_type": "markdown",
   "metadata": {
    "application/vnd.databricks.v1+cell": {
     "cellMetadata": {
      "byteLimit": 2048000,
      "rowLimit": 10000
     },
     "inputWidgets": {},
     "nuid": "7226f3de-1c59-44c6-922d-defafd76b110",
     "showTitle": false,
     "title": ""
    }
   },
   "source": [
    "## Driver standings\n",
    "The table presents detailed information about the driver standings in particular year"
   ]
  },
  {
   "cell_type": "code",
   "execution_count": 0,
   "metadata": {
    "application/vnd.databricks.v1+cell": {
     "cellMetadata": {
      "byteLimit": 2048000,
      "rowLimit": 10000
     },
     "inputWidgets": {},
     "nuid": "d8e17f56-5ada-4214-8871-323423e2ca86",
     "showTitle": false,
     "title": ""
    }
   },
   "outputs": [],
   "source": [
    "race_results_df = spark.read.parquet(\"abfss://presentation@formula1wa.dfs.core.windows.net//race_results\")"
   ]
  },
  {
   "cell_type": "code",
   "execution_count": 0,
   "metadata": {
    "application/vnd.databricks.v1+cell": {
     "cellMetadata": {
      "byteLimit": 2048000,
      "rowLimit": 10000
     },
     "inputWidgets": {},
     "nuid": "cd2ba61c-ca65-4c4a-ac78-8bf78a82b7a7",
     "showTitle": false,
     "title": ""
    }
   },
   "outputs": [],
   "source": [
    "from pyspark.sql.functions import sum, when, count, col\n",
    "\n",
    "driver_standings_df = race_results_df \\\n",
    ".groupBy(\"race_year\", \"driver_name\", \"driver_nationality\", \"team\") \\\n",
    ".agg(sum(\"points\").alias(\"total_points\"),\n",
    "     count(when(col(\"position\") == 1, True)).alias(\"wins\"))"
   ]
  },
  {
   "cell_type": "code",
   "execution_count": 0,
   "metadata": {
    "application/vnd.databricks.v1+cell": {
     "cellMetadata": {
      "byteLimit": 2048000,
      "rowLimit": 10000
     },
     "inputWidgets": {},
     "nuid": "4ea0579b-4fdf-4f7b-bb40-882c1881c089",
     "showTitle": false,
     "title": ""
    }
   },
   "outputs": [
    {
     "output_type": "display_data",
     "data": {
      "text/html": [
       "<style scoped>\n",
       "  .table-result-container {\n",
       "    max-height: 300px;\n",
       "    overflow: auto;\n",
       "  }\n",
       "  table, th, td {\n",
       "    border: 1px solid black;\n",
       "    border-collapse: collapse;\n",
       "  }\n",
       "  th, td {\n",
       "    padding: 5px;\n",
       "  }\n",
       "  th {\n",
       "    text-align: left;\n",
       "  }\n",
       "</style><div class='table-result-container'><table class='table-result'><thead style='background-color: white'><tr><th>race_year</th><th>driver_name</th><th>driver_nationality</th><th>team</th><th>total_points</th><th>wins</th></tr></thead><tbody><tr><td>2020</td><td>Lance Stroll</td><td>Canadian</td><td>Racing Point</td><td>75.0</td><td>0</td></tr><tr><td>2020</td><td>Kevin Magnussen</td><td>Danish</td><td>Haas F1 Team</td><td>1.0</td><td>0</td></tr><tr><td>2020</td><td>Antonio Giovinazzi</td><td>Italian</td><td>Alfa Romeo</td><td>4.0</td><td>0</td></tr><tr><td>2020</td><td>Carlos Sainz</td><td>Spanish</td><td>McLaren</td><td>105.0</td><td>0</td></tr><tr><td>2020</td><td>Nicholas Latifi</td><td>Canadian</td><td>Williams</td><td>0.0</td><td>0</td></tr><tr><td>2020</td><td>Lewis Hamilton</td><td>British</td><td>Mercedes</td><td>347.0</td><td>11</td></tr><tr><td>2020</td><td>Pierre Gasly</td><td>French</td><td>AlphaTauri</td><td>75.0</td><td>1</td></tr><tr><td>2020</td><td>Jack Aitken</td><td>British</td><td>Williams</td><td>0.0</td><td>0</td></tr><tr><td>2020</td><td>Romain Grosjean</td><td>French</td><td>Haas F1 Team</td><td>2.0</td><td>0</td></tr><tr><td>2020</td><td>Daniil Kvyat</td><td>Russian</td><td>AlphaTauri</td><td>32.0</td><td>0</td></tr><tr><td>2020</td><td>Pietro Fittipaldi</td><td>Brazilian</td><td>Haas F1 Team</td><td>0.0</td><td>0</td></tr><tr><td>2020</td><td>Sergio Pérez</td><td>Mexican</td><td>Racing Point</td><td>125.0</td><td>1</td></tr><tr><td>2020</td><td>Valtteri Bottas</td><td>Finnish</td><td>Mercedes</td><td>223.0</td><td>2</td></tr><tr><td>2020</td><td>Max Verstappen</td><td>Dutch</td><td>Red Bull</td><td>214.0</td><td>2</td></tr><tr><td>2020</td><td>Lando Norris</td><td>British</td><td>McLaren</td><td>97.0</td><td>0</td></tr><tr><td>2020</td><td>Alexander Albon</td><td>Thai</td><td>Red Bull</td><td>105.0</td><td>0</td></tr><tr><td>2020</td><td>Sebastian Vettel</td><td>German</td><td>Ferrari</td><td>33.0</td><td>0</td></tr><tr><td>2020</td><td>Daniel Ricciardo</td><td>Australian</td><td>Renault</td><td>119.0</td><td>0</td></tr><tr><td>2020</td><td>George Russell</td><td>British</td><td>Williams</td><td>0.0</td><td>0</td></tr><tr><td>2020</td><td>Esteban Ocon</td><td>French</td><td>Renault</td><td>62.0</td><td>0</td></tr><tr><td>2020</td><td>George Russell</td><td>British</td><td>Mercedes</td><td>3.0</td><td>0</td></tr><tr><td>2020</td><td>Kimi Räikkönen</td><td>Finnish</td><td>Alfa Romeo</td><td>4.0</td><td>0</td></tr><tr><td>2020</td><td>Nico Hülkenberg</td><td>German</td><td>Racing Point</td><td>10.0</td><td>0</td></tr><tr><td>2020</td><td>Charles Leclerc</td><td>Monegasque</td><td>Ferrari</td><td>98.0</td><td>0</td></tr></tbody></table></div>"
      ]
     },
     "metadata": {
      "application/vnd.databricks.v1+output": {
       "addedWidgets": {},
       "aggData": [],
       "aggError": "",
       "aggOverflow": false,
       "aggSchema": [],
       "aggSeriesLimitReached": false,
       "aggType": "",
       "arguments": {},
       "columnCustomDisplayInfos": {},
       "data": [
        [
         2020,
         "Lance Stroll",
         "Canadian",
         "Racing Point",
         75.0,
         0
        ],
        [
         2020,
         "Kevin Magnussen",
         "Danish",
         "Haas F1 Team",
         1.0,
         0
        ],
        [
         2020,
         "Antonio Giovinazzi",
         "Italian",
         "Alfa Romeo",
         4.0,
         0
        ],
        [
         2020,
         "Carlos Sainz",
         "Spanish",
         "McLaren",
         105.0,
         0
        ],
        [
         2020,
         "Nicholas Latifi",
         "Canadian",
         "Williams",
         0.0,
         0
        ],
        [
         2020,
         "Lewis Hamilton",
         "British",
         "Mercedes",
         347.0,
         11
        ],
        [
         2020,
         "Pierre Gasly",
         "French",
         "AlphaTauri",
         75.0,
         1
        ],
        [
         2020,
         "Jack Aitken",
         "British",
         "Williams",
         0.0,
         0
        ],
        [
         2020,
         "Romain Grosjean",
         "French",
         "Haas F1 Team",
         2.0,
         0
        ],
        [
         2020,
         "Daniil Kvyat",
         "Russian",
         "AlphaTauri",
         32.0,
         0
        ],
        [
         2020,
         "Pietro Fittipaldi",
         "Brazilian",
         "Haas F1 Team",
         0.0,
         0
        ],
        [
         2020,
         "Sergio Pérez",
         "Mexican",
         "Racing Point",
         125.0,
         1
        ],
        [
         2020,
         "Valtteri Bottas",
         "Finnish",
         "Mercedes",
         223.0,
         2
        ],
        [
         2020,
         "Max Verstappen",
         "Dutch",
         "Red Bull",
         214.0,
         2
        ],
        [
         2020,
         "Lando Norris",
         "British",
         "McLaren",
         97.0,
         0
        ],
        [
         2020,
         "Alexander Albon",
         "Thai",
         "Red Bull",
         105.0,
         0
        ],
        [
         2020,
         "Sebastian Vettel",
         "German",
         "Ferrari",
         33.0,
         0
        ],
        [
         2020,
         "Daniel Ricciardo",
         "Australian",
         "Renault",
         119.0,
         0
        ],
        [
         2020,
         "George Russell",
         "British",
         "Williams",
         0.0,
         0
        ],
        [
         2020,
         "Esteban Ocon",
         "French",
         "Renault",
         62.0,
         0
        ],
        [
         2020,
         "George Russell",
         "British",
         "Mercedes",
         3.0,
         0
        ],
        [
         2020,
         "Kimi Räikkönen",
         "Finnish",
         "Alfa Romeo",
         4.0,
         0
        ],
        [
         2020,
         "Nico Hülkenberg",
         "German",
         "Racing Point",
         10.0,
         0
        ],
        [
         2020,
         "Charles Leclerc",
         "Monegasque",
         "Ferrari",
         98.0,
         0
        ]
       ],
       "datasetInfos": [],
       "dbfsResultPath": null,
       "isJsonSchema": true,
       "metadata": {},
       "overflow": false,
       "plotOptions": {
        "customPlotOptions": {},
        "displayType": "table",
        "pivotAggregation": null,
        "pivotColumns": null,
        "xColumns": null,
        "yColumns": null
       },
       "removedWidgets": [],
       "schema": [
        {
         "metadata": "{}",
         "name": "race_year",
         "type": "\"integer\""
        },
        {
         "metadata": "{}",
         "name": "driver_name",
         "type": "\"string\""
        },
        {
         "metadata": "{}",
         "name": "driver_nationality",
         "type": "\"string\""
        },
        {
         "metadata": "{}",
         "name": "team",
         "type": "\"string\""
        },
        {
         "metadata": "{}",
         "name": "total_points",
         "type": "\"double\""
        },
        {
         "metadata": "{}",
         "name": "wins",
         "type": "\"long\""
        }
       ],
       "type": "table"
      }
     },
     "output_type": "display_data"
    },
    {
     "output_type": "display_data",
     "data": {
      "text/plain": [
       "Databricks visualization. Run in Databricks to view."
      ]
     },
     "metadata": {
      "application/vnd.databricks.v1.subcommand+json": {
       "bindings": {},
       "collapsed": false,
       "command": "display(driver_standings_df.filter(\"race_year = 2020\"))",
       "commandTitle": "Visualization 1",
       "commandType": "auto",
       "commandVersion": 0,
       "commentThread": [],
       "commentsVisible": false,
       "contentSha256Hex": null,
       "customPlotOptions": {
        "redashChart": [
         {
          "key": "type",
          "value": "TABLE"
         },
         {
          "key": "options",
          "value": {
           "columns": [
            {
             "alignContent": "right",
             "allowHTML": false,
             "allowSearch": false,
             "booleanValues": [
              "false",
              "true"
             ],
             "displayAs": "number",
             "highlightLinks": false,
             "imageHeight": "",
             "imageTitleTemplate": "{{ @ }}",
             "imageUrlTemplate": "{{ @ }}",
             "imageWidth": "",
             "linkOpenInNewTab": true,
             "linkTextTemplate": "{{ @ }}",
             "linkTitleTemplate": "{{ @ }}",
             "linkUrlTemplate": "{{ @ }}",
             "name": "race_year",
             "numberFormat": "0",
             "order": 100000,
             "preserveWhitespace": false,
             "title": "race_year",
             "type": "integer",
             "useMonospaceFont": false,
             "visible": true
            },
            {
             "alignContent": "left",
             "allowHTML": false,
             "allowSearch": false,
             "booleanValues": [
              "false",
              "true"
             ],
             "displayAs": "string",
             "highlightLinks": false,
             "imageHeight": "",
             "imageTitleTemplate": "{{ @ }}",
             "imageUrlTemplate": "{{ @ }}",
             "imageWidth": "",
             "linkOpenInNewTab": true,
             "linkTextTemplate": "{{ @ }}",
             "linkTitleTemplate": "{{ @ }}",
             "linkUrlTemplate": "{{ @ }}",
             "name": "driver_name",
             "order": 100001,
             "preserveWhitespace": false,
             "title": "driver_name",
             "type": "string",
             "useMonospaceFont": false,
             "visible": true
            },
            {
             "alignContent": "left",
             "allowHTML": false,
             "allowSearch": false,
             "booleanValues": [
              "false",
              "true"
             ],
             "displayAs": "string",
             "highlightLinks": false,
             "imageHeight": "",
             "imageTitleTemplate": "{{ @ }}",
             "imageUrlTemplate": "{{ @ }}",
             "imageWidth": "",
             "linkOpenInNewTab": true,
             "linkTextTemplate": "{{ @ }}",
             "linkTitleTemplate": "{{ @ }}",
             "linkUrlTemplate": "{{ @ }}",
             "name": "driver_nationality",
             "order": 100002,
             "preserveWhitespace": false,
             "title": "driver_nationality",
             "type": "string",
             "useMonospaceFont": false,
             "visible": true
            },
            {
             "alignContent": "left",
             "allowHTML": false,
             "allowSearch": false,
             "booleanValues": [
              "false",
              "true"
             ],
             "displayAs": "string",
             "highlightLinks": false,
             "imageHeight": "",
             "imageTitleTemplate": "{{ @ }}",
             "imageUrlTemplate": "{{ @ }}",
             "imageWidth": "",
             "linkOpenInNewTab": true,
             "linkTextTemplate": "{{ @ }}",
             "linkTitleTemplate": "{{ @ }}",
             "linkUrlTemplate": "{{ @ }}",
             "name": "team",
             "order": 100003,
             "preserveWhitespace": false,
             "title": "team",
             "type": "string",
             "useMonospaceFont": false,
             "visible": true
            },
            {
             "alignContent": "right",
             "allowHTML": false,
             "allowSearch": false,
             "booleanValues": [
              "false",
              "true"
             ],
             "displayAs": "number",
             "highlightLinks": false,
             "imageHeight": "",
             "imageTitleTemplate": "{{ @ }}",
             "imageUrlTemplate": "{{ @ }}",
             "imageWidth": "",
             "linkOpenInNewTab": true,
             "linkTextTemplate": "{{ @ }}",
             "linkTitleTemplate": "{{ @ }}",
             "linkUrlTemplate": "{{ @ }}",
             "name": "total_points",
             "numberFormat": "0",
             "order": 100004,
             "preserveWhitespace": false,
             "title": "total_points",
             "type": "float",
             "useMonospaceFont": false,
             "visible": true
            },
            {
             "alignContent": "right",
             "allowHTML": false,
             "allowSearch": false,
             "booleanValues": [
              "false",
              "true"
             ],
             "displayAs": "number",
             "highlightLinks": false,
             "imageHeight": "",
             "imageTitleTemplate": "{{ @ }}",
             "imageUrlTemplate": "{{ @ }}",
             "imageWidth": "",
             "linkOpenInNewTab": true,
             "linkTextTemplate": "{{ @ }}",
             "linkTitleTemplate": "{{ @ }}",
             "linkUrlTemplate": "{{ @ }}",
             "name": "wins",
             "numberFormat": "0",
             "order": 100005,
             "preserveWhitespace": false,
             "title": "wins",
             "type": "integer",
             "useMonospaceFont": false,
             "visible": true
            }
           ],
           "condensed": true,
           "itemsPerPage": 50,
           "paginationSize": "default",
           "version": 2,
           "withRowNumber": false
          }
         }
        ]
       },
       "datasetPreviewNameToCmdIdMap": {},
       "diffDeletes": [],
       "diffInserts": [],
       "displayType": "redashChart",
       "error": null,
       "errorSummary": null,
       "errorTraceType": null,
       "finishTime": 0,
       "globalVars": {},
       "guid": "874796af-0708-46b5-8c24-25dc7b05fab3",
       "height": "auto",
       "hideCommandCode": false,
       "hideCommandResult": false,
       "iPythonMetadata": null,
       "inputWidgets": {},
       "isLockedInExamMode": false,
       "latestUser": "a user",
       "latestUserId": null,
       "listResultMetadata": null,
       "metadata": {},
       "nuid": "4810b8fe-77f9-49f9-93dc-2cc2e49ed278",
       "origId": 3118613956091313,
       "parentHierarchy": [
        "9556078d-ef01-47a8-bef9-2908f14c17ce"
       ],
       "pivotAggregation": null,
       "pivotColumns": null,
       "position": 108.0,
       "resultDbfsErrorMessage": null,
       "resultDbfsStatus": "INLINED_IN_TREE",
       "results": null,
       "showCommandTitle": false,
       "startTime": 0,
       "state": "input",
       "streamStates": {},
       "subcommandOptions": {},
       "submitTime": 0,
       "subtype": "tableResultSubCmd.visualization",
       "tableResultIndex": 0,
       "useConsistentColors": false,
       "version": "CommandV1",
       "width": "auto",
       "workflows": [],
       "xColumns": null,
       "yColumns": null
      }
     },
     "output_type": "display_data"
    }
   ],
   "source": [
    "display(driver_standings_df.filter(\"race_year = 2020\"))"
   ]
  }
 ],
 "metadata": {
  "application/vnd.databricks.v1+notebook": {
   "dashboards": [
    {
     "elements": [
      {
       "dashboardResultIndex": 0,
       "elementNUID": "4ea0579b-4fdf-4f7b-bb40-882c1881c089",
       "elementType": "command",
       "guid": "992d54df-05de-46fc-977f-25686e728e05",
       "options": {
        "autoScaleImg": false,
        "scale": 0,
        "showTitle": false,
        "titleAlign": "center"
       },
       "position": {
        "height": 15,
        "width": 18,
        "x": 0,
        "y": 0,
        "z": null
       },
       "resultIndex": null
      }
     ],
     "globalVars": {},
     "guid": "b3601bd4-0836-4265-9709-0540b8e72b42",
     "layoutOption": {
      "grid": true,
      "stack": true
     },
     "nuid": "30c09a12-6dee-486a-ac07-520f19ae7eeb",
     "origId": 3118613956091311,
     "title": "Untitled",
     "version": "DashboardViewV1",
     "width": 1024
    }
   ],
   "language": "python",
   "notebookMetadata": {
    "mostRecentlyExecutedCommandWithImplicitDF": {
     "commandId": 3118613956091312,
     "dataframes": [
      "_sqldf"
     ]
    },
    "pythonIndentUnit": 4
   },
   "notebookName": "Formula 1 project - final Spark assignment",
   "widgets": {}
  }
 },
 "nbformat": 4,
 "nbformat_minor": 0
}
